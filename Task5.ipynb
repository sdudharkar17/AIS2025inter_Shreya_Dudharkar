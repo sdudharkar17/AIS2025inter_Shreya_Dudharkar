{
  "nbformat": 4,
  "nbformat_minor": 0,
  "metadata": {
    "colab": {
      "provenance": []
    },
    "kernelspec": {
      "name": "python3",
      "display_name": "Python 3"
    },
    "language_info": {
      "name": "python"
    }
  },
  "cells": [
    {
      "cell_type": "code",
      "execution_count": null,
      "metadata": {
        "colab": {
          "base_uri": "https://localhost:8080/"
        },
        "id": "j3TRWbpgxSWS",
        "outputId": "42f11c37-3854-4403-e379-35f56ca6985e"
      },
      "outputs": [
        {
          "output_type": "stream",
          "name": "stdout",
          "text": [
            "a    1\n",
            "b    2\n",
            "c    3\n",
            "dtype: int64\n",
            "    Name  Age\n",
            "0   John   28\n",
            "1   Anna   24\n",
            "2  Peter   35\n"
          ]
        }
      ],
      "source": [
        "import pandas as pd\n",
        "series = pd.Series([1, 2, 3], index=['a', 'b', 'c'])\n",
        "print(series)\n",
        "data = {'Name': ['John', 'Anna', 'Peter'],\n",
        "        'Age': [28, 24, 35]}\n",
        "df = pd.DataFrame(data)\n",
        "print(df)"
      ]
    },
    {
      "cell_type": "code",
      "source": [
        "df = pd.DataFrame({'Name': ['John', 'Anna', 'Peter'],\n",
        "'Age': [28, 24, 35]})\n",
        "print(df['Name'])\n",
        "print(df.iloc[0])\n",
        "print(df.loc[0, 'Name'])"
      ],
      "metadata": {
        "colab": {
          "base_uri": "https://localhost:8080/"
        },
        "id": "M_2RT0RCxfO1",
        "outputId": "0397256e-69fa-47da-ae0e-5d28e630c1c5"
      },
      "execution_count": null,
      "outputs": [
        {
          "output_type": "stream",
          "name": "stdout",
          "text": [
            "0     John\n",
            "1     Anna\n",
            "2    Peter\n",
            "Name: Name, dtype: object\n",
            "Name    John\n",
            "Age       28\n",
            "Name: 0, dtype: object\n",
            "John\n"
          ]
        }
      ]
    },
    {
      "cell_type": "code",
      "source": [
        "df = pd.DataFrame({'Name': ['John', None, 'Peter'],\n",
        "                   'Age': [28, 24, None]})\n",
        "print(df.isnull())\n",
        "df = df.dropna()\n",
        "print(df)\n",
        "df = pd.DataFrame({'Name': ['John', None, 'Peter'],\n",
        "                   'Age': [28, 24, None]})\n",
        "df = df.fillna('Unknown')\n",
        "print(df)\n"
      ],
      "metadata": {
        "colab": {
          "base_uri": "https://localhost:8080/"
        },
        "id": "3Qn8bZwWxy7i",
        "outputId": "e7922b37-8202-477d-8d20-7c7405f3601d"
      },
      "execution_count": null,
      "outputs": [
        {
          "output_type": "stream",
          "name": "stdout",
          "text": [
            "    Name    Age\n",
            "0  False  False\n",
            "1   True  False\n",
            "2  False   True\n",
            "   Name   Age\n",
            "0  John  28.0\n",
            "      Name      Age\n",
            "0     John     28.0\n",
            "1  Unknown     24.0\n",
            "2    Peter  Unknown\n"
          ]
        }
      ]
    },
    {
      "cell_type": "code",
      "source": [
        "df = pd.DataFrame({'Name': ['John', 'Anna', 'Peter'],\n",
        "'Age': [28, 24, 35]})\n",
        "df = df.rename(columns={'Name': 'Full Name'})\n",
        "print(df)\n"
      ],
      "metadata": {
        "colab": {
          "base_uri": "https://localhost:8080/"
        },
        "id": "tpI7DAL3x8vo",
        "outputId": "6ac69f09-f91f-432b-99a7-5de550528ffa"
      },
      "execution_count": null,
      "outputs": [
        {
          "output_type": "stream",
          "name": "stdout",
          "text": [
            "  Full Name  Age\n",
            "0      John   28\n",
            "1      Anna   24\n",
            "2     Peter   35\n"
          ]
        }
      ]
    },
    {
      "cell_type": "code",
      "source": [
        "df = pd.DataFrame({'Name': ['John', 'Anna', 'Peter'],\n",
        "                   'Age': [28, 24, 35]})\n",
        "df_filtered = df[df['Age'] > 30]\n",
        "print(df_filtered)\n"
      ],
      "metadata": {
        "colab": {
          "base_uri": "https://localhost:8080/"
        },
        "id": "CtOFeKmQyIns",
        "outputId": "cbf68260-768e-492b-ce06-6210e3fc0613"
      },
      "execution_count": null,
      "outputs": [
        {
          "output_type": "stream",
          "name": "stdout",
          "text": [
            "    Name  Age\n",
            "2  Peter   35\n"
          ]
        }
      ]
    },
    {
      "cell_type": "code",
      "source": [
        "df = pd.DataFrame({'Category': ['A', 'B', 'A', 'B'],\n",
        "'Value': [10, 20, 30, 40]})\n",
        "grouped = df.groupby('Category')\n",
        "print(grouped.sum())"
      ],
      "metadata": {
        "colab": {
          "base_uri": "https://localhost:8080/"
        },
        "id": "M8iQ6H1MySk9",
        "outputId": "83fd8fcd-ca3c-4e53-f3af-72f924e15e82"
      },
      "execution_count": null,
      "outputs": [
        {
          "output_type": "stream",
          "name": "stdout",
          "text": [
            "          Value\n",
            "Category       \n",
            "A            40\n",
            "B            60\n"
          ]
        }
      ]
    },
    {
      "cell_type": "code",
      "source": [
        "df1 = pd.DataFrame({'Key': ['A', 'B', 'C'],\n",
        "                    'Value1': [10, 20, 30]})\n",
        "df2 = pd.DataFrame({'Key': ['A', 'B', 'C'],\n",
        "                    'Value2': [40, 50, 60]})\n",
        "merged = pd.merge(df1, df2, on='Key')\n",
        "print(merged)"
      ],
      "metadata": {
        "colab": {
          "base_uri": "https://localhost:8080/"
        },
        "id": "pSwbK5sLyWbS",
        "outputId": "99867d72-400b-4cea-ce32-928adefa32b1"
      },
      "execution_count": null,
      "outputs": [
        {
          "output_type": "stream",
          "name": "stdout",
          "text": [
            "  Key  Value1  Value2\n",
            "0   A      10      40\n",
            "1   B      20      50\n",
            "2   C      30      60\n"
          ]
        }
      ]
    },
    {
      "cell_type": "code",
      "source": [
        "df = pd.DataFrame({'Name': ['John', 'Anna', 'Peter'],'Age': [28, 24, 35]})\n",
        "df.to_csv('data.csv', index=False)"
      ],
      "metadata": {
        "id": "zrD5UbkYyo_L"
      },
      "execution_count": null,
      "outputs": []
    }
  ]
}