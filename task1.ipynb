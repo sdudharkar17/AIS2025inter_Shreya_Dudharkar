{
  "nbformat": 4,
  "nbformat_minor": 0,
  "metadata": {
    "colab": {
      "provenance": []
    },
    "kernelspec": {
      "name": "python3",
      "display_name": "Python 3"
    },
    "language_info": {
      "name": "python"
    }
  },
  "cells": [
    {
      "cell_type": "code",
      "execution_count": 2,
      "metadata": {
        "colab": {
          "base_uri": "https://localhost:8080/"
        },
        "id": "nts0XLdy4L5m",
        "outputId": "2975a569-6753-458b-d42f-96f8541ebd47"
      },
      "outputs": [
        {
          "output_type": "stream",
          "name": "stdout",
          "text": [
            "<class 'int'>\n",
            "<class 'float'>\n",
            "<class 'complex'>\n",
            "8.14\n",
            "1.8599999999999999\n",
            "15.700000000000001\n",
            "1.592356687898089\n"
          ]
        }
      ],
      "source": [
        "\n",
        "a = 5\n",
        "print(type(a))\n",
        "\n",
        "\n",
        "b = 3.14\n",
        "print(type(b))\n",
        "\n",
        "\n",
        "c = 2 + 3j\n",
        "print(type(c))\n",
        "\n",
        "print(a + b)\n",
        "print(a - b)\n",
        "print(a * b)\n",
        "print(a /b)"
      ]
    },
    {
      "cell_type": "code",
      "source": [
        "a = 5\n",
        "b = 3\n",
        "print(a + b)\n",
        "print(a - b)\n",
        "print(a * b)\n",
        "print(a / b)\n",
        "\n",
        "\n",
        "print(a == b)\n",
        "print(a != b)\n",
        "print(a < b)\n",
        "print(a > b)\n",
        "\n",
        "print(a > b and a == 5)\n",
        "print(a > b or a == 5)\n",
        "\n",
        "\n",
        "a += b\n",
        "print(a)"
      ],
      "metadata": {
        "colab": {
          "base_uri": "https://localhost:8080/"
        },
        "id": "tpgLIay_4twa",
        "outputId": "1c576a3d-13f0-4947-bd0f-c1a8a85e1d04"
      },
      "execution_count": 4,
      "outputs": [
        {
          "output_type": "stream",
          "name": "stdout",
          "text": [
            "8\n",
            "2\n",
            "15\n",
            "1.6666666666666667\n",
            "False\n",
            "True\n",
            "False\n",
            "True\n",
            "True\n",
            "True\n",
            "8\n"
          ]
        }
      ]
    },
    {
      "cell_type": "code",
      "source": [
        "# Create a list\n",
        "my_list = [1, 2, 3, 4, 5]\n",
        "\n",
        "# Accessing elements\n",
        "print(my_list[0])  # Indexing\n",
        "print(my_list[1:3])  # Slicing\n",
        "\n",
        "# Modifying elements\n",
        "my_list[0] = 10\n",
        "print(my_list)  # Output: [10, 2, 3, 4, 5]\n",
        "\n",
        "# Adding elements\n",
        "my_list.append(6)\n",
        "print(my_list)  # Output: [10, 2, 3, 4, 5, 6]\n",
        "my_list.insert(0, 0)\n",
        "print(my_list)  # Output: [0, 10, 2, 3, 4, 5, 6]\n",
        "\n",
        "# Removing elements\n",
        "my_list.remove(10)\n",
        "print(my_list)  # Output: [0, 2, 3, 4, 5, 6]\n",
        "my_list.pop()\n",
        "print(my_list)  # Output: [0, 2, 3, 4, 5]\n",
        "\n",
        "# Other methods\n",
        "my_list.sort()\n",
        "print(my_list)  # Output: [0, 2, 3, 4, 5]\n",
        "my_list.reverse()\n",
        "print(my_list)  # Output: [5, 4, 3, 2, 0]\n",
        "my_list.extend([6, 7, 8])\n",
        "print(my_list)  # Output: [5, 4, 3, 2, 0, 6, 7, 8]\n",
        "print(my_list.count(5))  # Output: 1\n",
        "print(my_list.index(5))  # Output: 0\n",
        "my_list_copy = my_list.copy()\n",
        "print(my_list_copy)  # Output: [5, 4, 3, 2, 0, 6, 7, 8]"
      ],
      "metadata": {
        "colab": {
          "base_uri": "https://localhost:8080/"
        },
        "id": "f9Icu7vT470q",
        "outputId": "69d85f72-1158-4d46-c810-713c015ce640"
      },
      "execution_count": 5,
      "outputs": [
        {
          "output_type": "stream",
          "name": "stdout",
          "text": [
            "1\n",
            "[2, 3]\n",
            "[10, 2, 3, 4, 5]\n",
            "[10, 2, 3, 4, 5, 6]\n",
            "[0, 10, 2, 3, 4, 5, 6]\n",
            "[0, 2, 3, 4, 5, 6]\n",
            "[0, 2, 3, 4, 5]\n",
            "[0, 2, 3, 4, 5]\n",
            "[5, 4, 3, 2, 0]\n",
            "[5, 4, 3, 2, 0, 6, 7, 8]\n",
            "1\n",
            "0\n",
            "[5, 4, 3, 2, 0, 6, 7, 8]\n"
          ]
        }
      ]
    },
    {
      "cell_type": "code",
      "source": [
        "# Create a tuple\n",
        "my_tuple = (1, 2, 3, 4, 5)\n",
        "\n",
        "# Accessing elements\n",
        "print(my_tuple[0])\n",
        "print(my_tuple[1:3])\n",
        "\n",
        "# Concatenation\n",
        "my_tuple2 = (6, 7, 8)\n",
        "print(my_tuple + my_tuple2)\n",
        "\n",
        "# Repetition\n",
        "print(my_tuple * 2)\n",
        "\n",
        "# Count\n",
        "print(my_tuple.count(5))\n",
        "\n",
        "# Index\n",
        "print(my_tuple.index(5))"
      ],
      "metadata": {
        "colab": {
          "base_uri": "https://localhost:8080/"
        },
        "id": "mf1OcBZo5Icm",
        "outputId": "123cbf74-0378-497e-9117-33940c0bd2b4"
      },
      "execution_count": 6,
      "outputs": [
        {
          "output_type": "stream",
          "name": "stdout",
          "text": [
            "1\n",
            "(2, 3)\n",
            "(1, 2, 3, 4, 5, 6, 7, 8)\n",
            "(1, 2, 3, 4, 5, 1, 2, 3, 4, 5)\n",
            "1\n",
            "4\n"
          ]
        }
      ]
    },
    {
      "cell_type": "code",
      "source": [
        "\n",
        "# Create a set\n",
        "my_set = {1, 2, 3, 4, 5}\n",
        "\n",
        "# Add elements\n",
        "my_set.add(6)\n",
        "print(my_set)\n",
        "\n",
        "# Remove elements\n",
        "my_set.remove(5)\n",
        "print(my_set)\n",
        "\n",
        "# Union\n",
        "my_set2={4,5,6,7}"
      ],
      "metadata": {
        "colab": {
          "base_uri": "https://localhost:8080/"
        },
        "id": "dbvbH3Pm5QI6",
        "outputId": "b5c153db-674e-4456-b87c-34ac5ed2b5df"
      },
      "execution_count": 8,
      "outputs": [
        {
          "output_type": "stream",
          "name": "stdout",
          "text": [
            "{1, 2, 3, 4, 5, 6}\n",
            "{1, 2, 3, 4, 6}\n"
          ]
        }
      ]
    },
    {
      "cell_type": "code",
      "source": [
        "# Create a dictionary\n",
        "my_dict = {'name': 'John', 'age': 30, 'city': 'New York'}\n",
        "\n",
        "# Accessing key-value pairs\n",
        "print(my_dict['name'])\n",
        "\n",
        "# Adding items\n",
        "my_dict['country'] = 'USA'\n",
        "print(my_dict)\n",
        "\n",
        "# Removing items\n",
        "my_dict.pop('age')\n",
        "print(my_dict)\n",
        "\n",
        "# Using get() method\n",
        "print(my_dict.get('name'))\n",
        "\n",
        "# Using keys() method\n",
        "print(my_dict.keys())\n",
        "\n",
        "# Using values() method\n",
        "print(my_dict.values())\n",
        "\n",
        "# Using items() method\n",
        "print(my_dict.items())\n",
        "\n",
        "# Using update() method\n",
        "my_dict.update({'age': 31})\n",
        "print(my_dict)"
      ],
      "metadata": {
        "colab": {
          "base_uri": "https://localhost:8080/"
        },
        "id": "bOBByArO5rRp",
        "outputId": "4078cd94-2642-40cf-8115-f8184a40cf96"
      },
      "execution_count": 9,
      "outputs": [
        {
          "output_type": "stream",
          "name": "stdout",
          "text": [
            "John\n",
            "{'name': 'John', 'age': 30, 'city': 'New York', 'country': 'USA'}\n",
            "{'name': 'John', 'city': 'New York', 'country': 'USA'}\n",
            "John\n",
            "dict_keys(['name', 'city', 'country'])\n",
            "dict_values(['John', 'New York', 'USA'])\n",
            "dict_items([('name', 'John'), ('city', 'New York'), ('country', 'USA')])\n",
            "{'name': 'John', 'city': 'New York', 'country': 'USA', 'age': 31}\n"
          ]
        }
      ]
    },
    {
      "cell_type": "code",
      "source": [
        "\n",
        "if True:\n",
        "    print(\"Hello, World!\")\n"
      ],
      "metadata": {
        "colab": {
          "base_uri": "https://localhost:8080/"
        },
        "id": "U5uvBGkF5xo-",
        "outputId": "03306902-4fa3-49d4-c24a-4db964aeb288"
      },
      "execution_count": 13,
      "outputs": [
        {
          "output_type": "stream",
          "name": "stdout",
          "text": [
            "Hello, World!\n"
          ]
        }
      ]
    },
    {
      "cell_type": "code",
      "source": [
        "\n",
        "x = 5\n",
        "print(x)"
      ],
      "metadata": {
        "colab": {
          "base_uri": "https://localhost:8080/"
        },
        "id": "XvV8nBlN6AMg",
        "outputId": "730518e8-5ab9-4244-9e46-9acf7b5c46d7"
      },
      "execution_count": 14,
      "outputs": [
        {
          "output_type": "stream",
          "name": "stdout",
          "text": [
            "5\n"
          ]
        }
      ]
    },
    {
      "cell_type": "code",
      "source": [
        "\n",
        "my_list = [1, 2, 3]\n",
        "print(my_list[2])"
      ],
      "metadata": {
        "colab": {
          "base_uri": "https://localhost:8080/"
        },
        "id": "YqShfOHT7xbr",
        "outputId": "9c5da18e-6ce2-4072-cd2c-df2f40a076a8"
      },
      "execution_count": 15,
      "outputs": [
        {
          "output_type": "stream",
          "name": "stdout",
          "text": [
            "3\n"
          ]
        }
      ]
    },
    {
      "cell_type": "code",
      "source": [
        "\n",
        "my_dict = {'name': 'John', 'age': 30}\n",
        "\n",
        "\n",
        "print(my_dict['name'])\n",
        "print(my_dict.get('city', 'Not found'))"
      ],
      "metadata": {
        "colab": {
          "base_uri": "https://localhost:8080/"
        },
        "id": "P-xUeze76ZeL",
        "outputId": "2417e17a-55c8-4cf3-9a2b-9dd0565e63b5"
      },
      "execution_count": 17,
      "outputs": [
        {
          "output_type": "stream",
          "name": "stdout",
          "text": [
            "John\n",
            "Not found\n"
          ]
        }
      ]
    },
    {
      "cell_type": "code",
      "source": [],
      "metadata": {
        "id": "IFY-Hd6s6Zau"
      },
      "execution_count": null,
      "outputs": []
    }
  ]
}