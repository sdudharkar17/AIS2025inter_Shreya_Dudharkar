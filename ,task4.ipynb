{
  "cells": [
    {
      "cell_type": "code",
      "execution_count": null,
      "metadata": {
        "id": "PXJ5SmiyIs2D"
      },
      "outputs": [],
      "source": [
        "import numpy as np"
      ]
    },
    {
      "cell_type": "code",
      "execution_count": null,
      "metadata": {
        "colab": {
          "base_uri": "https://localhost:8080/"
        },
        "id": "_Ynj9iZAI5sx",
        "outputId": "4b010c4a-497d-4bc5-ce52-b47c042da065"
      },
      "outputs": [
        {
          "name": "stdout",
          "output_type": "stream",
          "text": [
            "[1 2 3 4 5]\n",
            "[[0. 0. 0.]\n",
            " [0. 0. 0.]\n",
            " [0. 0. 0.]]\n",
            "[[1. 1. 1.]\n",
            " [1. 1. 1.]\n",
            " [1. 1. 1.]]\n",
            "[0 2 4 6 8]\n",
            "[ 0.   2.5  5.   7.5 10. ]\n"
          ]
        }
      ],
      "source": [
        "\n",
        "arr1 = np.array([1, 2, 3, 4, 5])\n",
        "arr2 = np.zeros((3, 3))\n",
        "arr3 = np.ones((3, 3))\n",
        "arr4 = np.arange(0, 10, 2)\n",
        "arr5 = np.linspace(0, 10, 5)\n",
        "\n",
        "print(arr1)\n",
        "print(arr2)\n",
        "\n",
        "\n",
        "print(arr3)\n",
        "\n",
        "\n",
        "print(arr4)\n",
        "print(arr5)"
      ]
    },
    {
      "cell_type": "code",
      "execution_count": null,
      "metadata": {
        "colab": {
          "base_uri": "https://localhost:8080/"
        },
        "id": "Tipj99qIJirv",
        "outputId": "d3b04109-747f-429d-c87f-e819ca8d13a0"
      },
      "outputs": [
        {
          "name": "stdout",
          "output_type": "stream",
          "text": [
            "[6 6 6 6 6]\n",
            "[-4 -2  0  2  4]\n",
            "[5 8 9 8 5]\n",
            "[0.2 0.5 1.  2.  5. ]\n",
            "[1.         1.41421356 1.73205081 2.         2.23606798]\n",
            "[ 0.84147098  0.90929743  0.14112001 -0.7568025  -0.95892427]\n",
            "[  2.71828183   7.3890561   20.08553692  54.59815003 148.4131591 ]\n"
          ]
        }
      ],
      "source": [
        "arr1 = np.array([1, 2, 3, 4, 5])\n",
        "arr2 = np.array([5, 4, 3, 2, 1])\n",
        "\n",
        "\n",
        "print(arr1 + arr2)\n",
        "print(arr1 - arr2)\n",
        "print(arr1 * arr2)\n",
        "print(arr1 / arr2)\n",
        "\n",
        "\n",
        "print(np.sqrt(arr1))\n",
        "print(np.sin(arr1))\n",
        "print(np.exp(arr1))"
      ]
    },
    {
      "cell_type": "code",
      "execution_count": null,
      "metadata": {
        "colab": {
          "base_uri": "https://localhost:8080/"
        },
        "id": "eGujmZObJ96-",
        "outputId": "13087df2-f9ff-4f93-8da7-0a845acffbe3"
      },
      "outputs": [
        {
          "name": "stdout",
          "output_type": "stream",
          "text": [
            "(6,)\n",
            "1\n",
            "[[1 2 3]\n",
            " [4 5 6]]\n",
            "[1 2 3 4 5 6]\n",
            "[[1 3]\n",
            " [2 4]]\n"
          ]
        }
      ],
      "source": [
        "arr = np.array([1, 2, 3, 4, 5, 6])\n",
        "print(arr.shape)\n",
        "print(arr.ndim)\n",
        "\n",
        "arr = arr.reshape(2, 3)\n",
        "print(arr)\n",
        "\n",
        "\n",
        "arr = arr.flatten()\n",
        "print(arr)\n",
        "\n",
        "\n",
        "arr = np.array([[1, 2], [3, 4]])\n",
        "arr = arr.transpose()\n",
        "print(arr)"
      ]
    },
    {
      "cell_type": "code",
      "execution_count": null,
      "metadata": {
        "colab": {
          "base_uri": "https://localhost:8080/"
        },
        "id": "SuPXiCvGKNgj",
        "outputId": "e51353bb-0286-484b-a833-e4ee22a15cb6"
      },
      "outputs": [
        {
          "name": "stdout",
          "output_type": "stream",
          "text": [
            "1\n",
            "[2 3]\n",
            "[4 5]\n",
            "[1 3 5]\n"
          ]
        }
      ],
      "source": [
        "arr = np.array([1, 2, 3, 4, 5])\n",
        "\n",
        "\n",
        "print(arr[0])\n",
        "print(arr[1:3])\n",
        "\n",
        "\n",
        "mask = arr > 3\n",
        "print(arr[mask])\n",
        "\n",
        "indices = np.array([0, 2, 4])\n",
        "print(arr[indices])"
      ]
    },
    {
      "cell_type": "code",
      "execution_count": null,
      "metadata": {
        "colab": {
          "base_uri": "https://localhost:8080/"
        },
        "id": "30mAaRdjKdms",
        "outputId": "fd0d157f-400b-4d21-8d73-e390072f7b8c"
      },
      "outputs": [
        {
          "name": "stdout",
          "output_type": "stream",
          "text": [
            "3.0\n",
            "3.0\n",
            "1.4142135623730951\n",
            "2.0\n",
            "<module 'numpy' from '/usr/local/lib/python3.11/dist-packages/numpy/__init__.py'>\n"
          ]
        }
      ],
      "source": [
        "arr = np.array([1, 2, 3, 4, 5])\n",
        "\n",
        "\n",
        "print(np.mean(arr))\n",
        "print(np.median(arr))\n",
        "print(np.std(arr))\n",
        "print(np.var(arr))\n",
        "print(np)"
      ]
    },
    {
      "cell_type": "code",
      "execution_count": null,
      "metadata": {
        "colab": {
          "base_uri": "https://localhost:8080/"
        },
        "id": "IlTjd4YHKv53",
        "outputId": "9203b4fc-4597-458c-e9da-3c4e528134d2"
      },
      "outputs": [
        {
          "name": "stdout",
          "output_type": "stream",
          "text": [
            "[0.28893773 0.29276461 0.73805375 0.78525019 0.39596504]\n",
            "[3 2 4 7 1]\n",
            "[0.37454012 0.95071431 0.73199394 0.59865848 0.15601864]\n",
            "[2 1 4]\n",
            "[1 2 3 4 5]\n",
            "[1 3 4 2 5]\n"
          ]
        }
      ],
      "source": [
        "import numpy as np\n",
        "\n",
        "\n",
        "random_numbers = np.random.rand(5)\n",
        "print(random_numbers)\n",
        "\n",
        "\n",
        "random_integers = np.random.randint(0, 10, 5)\n",
        "print(random_integers)\n",
        "\n",
        "\n",
        "np.random.seed(42)\n",
        "random_numbers_seeded = np.random.rand(5)\n",
        "print(random_numbers_seeded)\n",
        "\n",
        "\n",
        "array = np.array([1, 2, 3, 4, 5])\n",
        "random_sample = np.random.choice(array, 3, replace=False)\n",
        "print(random_sample)\n",
        "\n",
        "np.random.shuffle(array)\n",
        "print(array)\n",
        "\n",
        "\n",
        "permutations = np.random.permutation(array)\n",
        "print(permutations)\n"
      ]
    },
    {
      "cell_type": "code",
      "execution_count": null,
      "metadata": {
        "colab": {
          "base_uri": "https://localhost:8080/"
        },
        "id": "Nc4lNLd4K--L",
        "outputId": "4d05d94d-b6d1-497f-8cec-ee4637215c82"
      },
      "outputs": [
        {
          "name": "stdout",
          "output_type": "stream",
          "text": [
            "[5 6 7]\n",
            "[[ 8 10 12]\n",
            " [11 13 15]]\n",
            "[[ 8  9 10]\n",
            " [12 13 14]]\n"
          ]
        }
      ],
      "source": [
        "import numpy as np\n",
        "\n",
        "array1 = np.array([1, 2, 3])\n",
        "array2 = np.array([4])\n",
        "result = array1 + array2\n",
        "print(result)\n",
        "\n",
        "\n",
        "array1 = np.array([[1, 2, 3], [4, 5, 6]])\n",
        "array2 = np.array([7, 8, 9])\n",
        "result = array1 + array2\n",
        "print(result)\n",
        "\n",
        "array1 = np.array([[1, 2, 3], [4, 5, 6]])\n",
        "array2 = np.array([[7], [8]])\n",
        "result = array1 + array2\n",
        "print(result)\n"
      ]
    }
  ],
  "metadata": {
    "colab": {
      "provenance": []
    },
    "kernelspec": {
      "display_name": "Python 3",
      "name": "python3"
    },
    "language_info": {
      "name": "python"
    }
  },
  "nbformat": 4,
  "nbformat_minor": 0
}
