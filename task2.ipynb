{
  "nbformat": 4,
  "nbformat_minor": 0,
  "metadata": {
    "colab": {
      "provenance": []
    },
    "kernelspec": {
      "name": "python3",
      "display_name": "Python 3"
    },
    "language_info": {
      "name": "python"
    }
  },
  "cells": [
    {
      "cell_type": "code",
      "execution_count": 2,
      "metadata": {
        "colab": {
          "base_uri": "https://localhost:8080/"
        },
        "id": "LbizCK5f-9Nb",
        "outputId": "4fc06468-5c25-4212-ffe9-b81d36b650b2"
      },
      "outputs": [
        {
          "output_type": "stream",
          "name": "stdout",
          "text": [
            "B\n"
          ]
        }
      ],
      "source": [
        "p = 50\n",
        "if p > 75:\n",
        "    print(\"O\")\n",
        "elif 60 <= p <= 75:\n",
        "    print(\"A\")\n",
        "elif 50 <= p < 60:\n",
        "    print(\"B\")\n",
        "elif 35 <= p < 50:\n",
        "    print(\"C\")\n",
        "else:\n",
        "     print(\"Fail\")"
      ]
    },
    {
      "cell_type": "code",
      "source": [
        "n = 7\n",
        "if n % 2 == 0 and n % 3 == 0:\n",
        "    print(\"Divisible by 2 and 3\")\n",
        "elif n % 2 == 0:\n",
        "    print(\"Divisible by 2, not 3\")\n",
        "elif n % 3 == 0:\n",
        "    print(\"Divisible by 3, not 2\")\n",
        "else:\n",
        "    print(\"Not divisible by 2 and 3\")"
      ],
      "metadata": {
        "colab": {
          "base_uri": "https://localhost:8080/"
        },
        "id": "teEAEZ-K_R3X",
        "outputId": "3e620a50-d1db-404b-9bf0-94eaa34d6363"
      },
      "execution_count": 3,
      "outputs": [
        {
          "output_type": "stream",
          "name": "stdout",
          "text": [
            "Not divisible by 2 and 3\n"
          ]
        }
      ]
    },
    {
      "cell_type": "code",
      "source": [
        "for i in range(21, 80, 2):\n",
        "    print(i,end=\" \")"
      ],
      "metadata": {
        "colab": {
          "base_uri": "https://localhost:8080/"
        },
        "id": "XzX8KXL__URk",
        "outputId": "e54f9a84-96d2-4cb2-efb4-eef3f57a1618"
      },
      "execution_count": 5,
      "outputs": [
        {
          "output_type": "stream",
          "name": "stdout",
          "text": [
            "21 23 25 27 29 31 33 35 37 39 41 43 45 47 49 51 53 55 57 59 61 63 65 67 69 71 73 75 77 79 "
          ]
        }
      ]
    },
    {
      "cell_type": "code",
      "source": [
        "numbers = []\n",
        "for i in range(1, 21):\n",
        "    numbers.append(i)\n",
        "print(numbers)"
      ],
      "metadata": {
        "colab": {
          "base_uri": "https://localhost:8080/"
        },
        "id": "tj_-B5pO_n3E",
        "outputId": "d92de77c-cbaf-4c6f-da65-6b392e108164"
      },
      "execution_count": 6,
      "outputs": [
        {
          "output_type": "stream",
          "name": "stdout",
          "text": [
            "[1, 2, 3, 4, 5, 6, 7, 8, 9, 10, 11, 12, 13, 14, 15, 16, 17, 18, 19, 20]\n"
          ]
        }
      ]
    },
    {
      "cell_type": "code",
      "source": [
        "numbers = []\n",
        "for i in range(20, 0, -1):\n",
        "    numbers.append(i)\n",
        "print(numbers)"
      ],
      "metadata": {
        "colab": {
          "base_uri": "https://localhost:8080/"
        },
        "id": "UPBBsxaa_ytR",
        "outputId": "d91063fd-5792-4d7d-98d5-8d8a9abdbe92"
      },
      "execution_count": 7,
      "outputs": [
        {
          "output_type": "stream",
          "name": "stdout",
          "text": [
            "[20, 19, 18, 17, 16, 15, 14, 13, 12, 11, 10, 9, 8, 7, 6, 5, 4, 3, 2, 1]\n"
          ]
        }
      ]
    },
    {
      "cell_type": "code",
      "source": [
        "cubes = []\n",
        "for i in range(20, 41):\n",
        "    if i % 2 != 0:\n",
        "        cubes.append(i **3)\n",
        "print(cubes)"
      ],
      "metadata": {
        "colab": {
          "base_uri": "https://localhost:8080/"
        },
        "id": "rQHkS8PH_-C9",
        "outputId": "228b6e77-655b-4250-c64a-d97ba348e4b7"
      },
      "execution_count": 9,
      "outputs": [
        {
          "output_type": "stream",
          "name": "stdout",
          "text": [
            "[9261, 12167, 15625, 19683, 24389, 29791, 35937, 42875, 50653, 59319]\n"
          ]
        }
      ]
    },
    {
      "cell_type": "code",
      "source": [
        "names = ['a', 'b', 'c', 'd', 'e']\n",
        "ages = [20, 21, 23, 25, 24]\n",
        "for i in range(len(names)):\n",
        "    print(f\"My name is {names[i]}, my age is {ages[i]}\")"
      ],
      "metadata": {
        "colab": {
          "base_uri": "https://localhost:8080/"
        },
        "id": "D0Rcbax0AGD0",
        "outputId": "5ae52213-522e-4e26-e7eb-8c43ace71ad3"
      },
      "execution_count": 10,
      "outputs": [
        {
          "output_type": "stream",
          "name": "stdout",
          "text": [
            "My name is a, my age is 20\n",
            "My name is b, my age is 21\n",
            "My name is c, my age is 23\n",
            "My name is d, my age is 25\n",
            "My name is e, my age is 24\n"
          ]
        }
      ]
    },
    {
      "cell_type": "code",
      "source": [
        "my_list = [1, 2, 3, 4, 5]\n",
        "my_list[0], my_list[-1] = my_list[-1], my_list[0]\n",
        "print(my_list)"
      ],
      "metadata": {
        "colab": {
          "base_uri": "https://localhost:8080/"
        },
        "id": "TxfWV7l4AIp1",
        "outputId": "04c45e60-2dce-475b-b3d8-2735b0eaa537"
      },
      "execution_count": 11,
      "outputs": [
        {
          "output_type": "stream",
          "name": "stdout",
          "text": [
            "[5, 2, 3, 4, 1]\n"
          ]
        }
      ]
    },
    {
      "cell_type": "code",
      "source": [
        "s = \"hello\"\n",
        "print(len(s))"
      ],
      "metadata": {
        "colab": {
          "base_uri": "https://localhost:8080/"
        },
        "id": "npLie5ywATLQ",
        "outputId": "68031adf-8b38-4116-d690-c4c6a01270b3"
      },
      "execution_count": 12,
      "outputs": [
        {
          "output_type": "stream",
          "name": "stdout",
          "text": [
            "5\n"
          ]
        }
      ]
    },
    {
      "cell_type": "code",
      "source": [
        "numbers = [1, 4, -5, -20, 10]\n",
        "sum = 0\n",
        "for num in numbers:\n",
        "    if num >= 0:\n",
        "        sum +=num\n",
        "print(sum)"
      ],
      "metadata": {
        "colab": {
          "base_uri": "https://localhost:8080/"
        },
        "id": "RRcMRVywAYMU",
        "outputId": "1834a0dc-ba81-4db2-e536-eb9c73be9616"
      },
      "execution_count": 14,
      "outputs": [
        {
          "output_type": "stream",
          "name": "stdout",
          "text": [
            "15\n"
          ]
        }
      ]
    },
    {
      "cell_type": "code",
      "source": [
        "def factorial(n):\n",
        "    result = 1\n",
        "    for i in range(1, n + 1):\n",
        "        result *= i\n",
        "    return result\n",
        "print(factorial(3))"
      ],
      "metadata": {
        "colab": {
          "base_uri": "https://localhost:8080/"
        },
        "id": "Wl6ckKuEAfrW",
        "outputId": "9667fa97-041b-4941-caf2-157305669c1d"
      },
      "execution_count": 16,
      "outputs": [
        {
          "output_type": "stream",
          "name": "stdout",
          "text": [
            "6\n"
          ]
        }
      ]
    },
    {
      "cell_type": "code",
      "source": [
        "i = 1\n",
        "while i <= 10:\n",
        "    if i % 2 == 0:\n",
        "        print(f\"{i} is even\")\n",
        "    else:\n",
        "        print(f\"{i} is odd\")\n",
        "    i+=1"
      ],
      "metadata": {
        "colab": {
          "base_uri": "https://localhost:8080/"
        },
        "id": "yoqnmR3rAmfN",
        "outputId": "769e76c1-40c5-4622-e1cc-0793fa5084c7"
      },
      "execution_count": 17,
      "outputs": [
        {
          "output_type": "stream",
          "name": "stdout",
          "text": [
            "1 is odd\n",
            "2 is even\n",
            "3 is odd\n",
            "4 is even\n",
            "5 is odd\n",
            "6 is even\n",
            "7 is odd\n",
            "8 is even\n",
            "9 is odd\n",
            "10 is even\n"
          ]
        }
      ]
    },
    {
      "cell_type": "code",
      "source": [
        "i = 0\n",
        "while i < 15:\n",
        "    print(\"*\", end=\" \")\n",
        "    i+=1"
      ],
      "metadata": {
        "colab": {
          "base_uri": "https://localhost:8080/"
        },
        "id": "ZayHO3AyA5gP",
        "outputId": "b971f808-9460-4fed-8609-5f8583173e1b"
      },
      "execution_count": 18,
      "outputs": [
        {
          "output_type": "stream",
          "name": "stdout",
          "text": [
            "* * * * * * * * * * * * * * * "
          ]
        }
      ]
    },
    {
      "cell_type": "code",
      "source": [
        "numbers = []\n",
        "i = 1\n",
        "while i <= 20:\n",
        "    numbers.append(i)\n",
        "    i += 1\n",
        "print(numbers)"
      ],
      "metadata": {
        "colab": {
          "base_uri": "https://localhost:8080/"
        },
        "id": "pKWzNvnHBHi6",
        "outputId": "5c8e3219-cfe1-49b6-a64c-367adb2122e6"
      },
      "execution_count": 19,
      "outputs": [
        {
          "output_type": "stream",
          "name": "stdout",
          "text": [
            "[1, 2, 3, 4, 5, 6, 7, 8, 9, 10, 11, 12, 13, 14, 15, 16, 17, 18, 19, 20]\n"
          ]
        }
      ]
    },
    {
      "cell_type": "code",
      "source": [
        "numbers = []\n",
        "i = 20\n",
        "while i >= 1:\n",
        "    numbers.append(i)\n",
        "    i -= 1\n",
        "print(numbers)"
      ],
      "metadata": {
        "colab": {
          "base_uri": "https://localhost:8080/"
        },
        "id": "79JmkHVXBKgE",
        "outputId": "2b99a263-7ed6-4185-8875-3bb6f8d254ef"
      },
      "execution_count": 20,
      "outputs": [
        {
          "output_type": "stream",
          "name": "stdout",
          "text": [
            "[20, 19, 18, 17, 16, 15, 14, 13, 12, 11, 10, 9, 8, 7, 6, 5, 4, 3, 2, 1]\n"
          ]
        }
      ]
    }
  ]
}