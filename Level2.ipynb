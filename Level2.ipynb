{
  "nbformat": 4,
  "nbformat_minor": 0,
  "metadata": {
    "colab": {
      "provenance": []
    },
    "kernelspec": {
      "name": "python3",
      "display_name": "Python 3"
    },
    "language_info": {
      "name": "python"
    }
  },
  "cells": [
    {
      "cell_type": "code",
      "source": [
        "import pandas as pd\n",
        "import numpy as np\n",
        "\n",
        "# Load your data file into a DataFrame\n",
        "df = pd.read_csv('/content/Daily Weather.csv')\n",
        "\n",
        "# Find numerical columns\n",
        "numerical_columns = df.select_dtypes(include=['int64', 'float64']).columns\n",
        "\n",
        "# Print numerical columns\n",
        "print(\"Numerical columns:\")\n",
        "print(numerical_columns)\n",
        "\n",
        "# Check for missing values\n",
        "missing_values = df.isnull().sum()\n",
        "print(\"\\nMissing values:\")\n",
        "print(missing_values)\n",
        "\n",
        "# Choose a numerical column or fill all numerical columns\n",
        "fill_all = input(\"Do you want to fill missing values for all numerical columns? (yes/no): \")\n",
        "\n",
        "if fill_all.lower() == 'yes':\n",
        "    # Fill missing values with median for all numerical columns\n",
        "    for column_name in numerical_columns:\n",
        "        median = df[column_name].median()\n",
        "        df[column_name] = df[column_name].fillna(median)\n",
        "else:\n",
        "    # Choose a numerical column\n",
        "    column_name = input(\"Enter the name of the numerical column to fill missing values: \")\n",
        "\n",
        "    # Check if the column exists and is numerical\n",
        "    if column_name in numerical_columns:\n",
        "        # Calculate the median\n",
        "        median = df[column_name].median()\n",
        "\n",
        "        # Fill missing values with the median\n",
        "        df[column_name] = df[column_name].fillna(median)\n",
        "    else:\n",
        "        print(\"The column does not exist or is not numerical.\")\n",
        "\n",
        "# Check for missing values after filling\n",
        "missing_values_after_filling = df.isnull().sum()\n",
        "print(\"\\nMissing values after filling:\")\n",
        "print(missing_values_after_filling)\n",
        "\n"
      ],
      "metadata": {
        "id": "wx8XbgbVqaTE",
        "colab": {
          "base_uri": "https://localhost:8080/"
        },
        "outputId": "fb74ebf7-4c8f-4d26-f318-47257703d819"
      },
      "execution_count": null,
      "outputs": [
        {
          "output_type": "stream",
          "name": "stdout",
          "text": [
            "Numerical columns:\n",
            "Index(['number', 'air_pressure_9am', 'air_temp_9am', 'avg_wind_direction_9am',\n",
            "       'avg_wind_speed_9am', 'max_wind_direction_9am', 'max_wind_speed_9am',\n",
            "       'rain_accumulation_9am', 'rain_duration_9am', 'relative_humidity_9am',\n",
            "       'relative_humidity_3pm'],\n",
            "      dtype='object')\n",
            "\n",
            "Missing values:\n",
            "number                    0\n",
            "air_pressure_9am          3\n",
            "air_temp_9am              5\n",
            "avg_wind_direction_9am    4\n",
            "avg_wind_speed_9am        3\n",
            "max_wind_direction_9am    3\n",
            "max_wind_speed_9am        4\n",
            "rain_accumulation_9am     6\n",
            "rain_duration_9am         3\n",
            "relative_humidity_9am     0\n",
            "relative_humidity_3pm     0\n",
            "dtype: int64\n",
            "Do you want to fill missing values for all numerical columns? (yes/no): 3\n",
            "Enter the name of the numerical column to fill missing values: 5\n",
            "The column does not exist or is not numerical.\n",
            "\n",
            "Missing values after filling:\n",
            "number                    0\n",
            "air_pressure_9am          3\n",
            "air_temp_9am              5\n",
            "avg_wind_direction_9am    4\n",
            "avg_wind_speed_9am        3\n",
            "max_wind_direction_9am    3\n",
            "max_wind_speed_9am        4\n",
            "rain_accumulation_9am     6\n",
            "rain_duration_9am         3\n",
            "relative_humidity_9am     0\n",
            "relative_humidity_3pm     0\n",
            "dtype: int64\n"
          ]
        }
      ]
    },
    {
      "cell_type": "code",
      "source": [
        "import pandas as pd\n",
        "\n",
        "# Load your data file into a DataFrame\n",
        "df = pd.read_csv('/content/Daily Weather.csv')\n",
        "\n",
        "# Check for missing values\n",
        "missing_values = df.isnull().sum()\n",
        "print(\"Missing values:\")\n",
        "print(missing_values)\n",
        "\n",
        "# Drop rows with missing values\n",
        "df_dropped = df.dropna()\n",
        "\n",
        "# Print the number of rows dropped\n",
        "rows_dropped = len(df) - len(df_dropped)\n",
        "print(f\"\\nDropped {rows_dropped} rows with missing values.\")\n",
        "\n",
        "# Print the DataFrame after dropping rows\n",
        "print(\"\\nDataFrame after dropping rows with missing values:\")\n",
        "print(df_dropped.head())\n",
        "\n",
        "# Alternatively, you can drop rows with missing values in-place\n",
        "df.dropna(inplace=True)\n",
        "print(\"\\nDataFrame after dropping rows with missing values (in-place):\")\n",
        "print(df.head())"
      ],
      "metadata": {
        "colab": {
          "base_uri": "https://localhost:8080/"
        },
        "id": "IX69IMFHwOEc",
        "outputId": "a4aa426c-6b21-4a7e-ea65-3a85aeb8764a"
      },
      "execution_count": null,
      "outputs": [
        {
          "output_type": "stream",
          "name": "stdout",
          "text": [
            "Missing values:\n",
            "number                    0\n",
            "air_pressure_9am          3\n",
            "air_temp_9am              5\n",
            "avg_wind_direction_9am    4\n",
            "avg_wind_speed_9am        3\n",
            "max_wind_direction_9am    3\n",
            "max_wind_speed_9am        4\n",
            "rain_accumulation_9am     6\n",
            "rain_duration_9am         3\n",
            "relative_humidity_9am     0\n",
            "relative_humidity_3pm     0\n",
            "dtype: int64\n",
            "\n",
            "Dropped 31 rows with missing values.\n",
            "\n",
            "DataFrame after dropping rows with missing values:\n",
            "   number  air_pressure_9am  air_temp_9am  avg_wind_direction_9am  \\\n",
            "0       0        918.060000     74.822000              271.100000   \n",
            "1       1        917.347688     71.403843              101.935179   \n",
            "2       2        923.040000     60.638000               51.000000   \n",
            "3       3        920.502751     70.138895              198.832133   \n",
            "4       4        921.160000     44.294000              277.800000   \n",
            "\n",
            "   avg_wind_speed_9am  max_wind_direction_9am  max_wind_speed_9am  \\\n",
            "0            2.080354              295.400000            2.863283   \n",
            "1            2.443009              140.471548            3.533324   \n",
            "2           17.067852               63.700000           22.100967   \n",
            "3            4.337363              211.203341            5.190045   \n",
            "4            1.856660              136.500000            2.863283   \n",
            "\n",
            "   rain_accumulation_9am  rain_duration_9am  relative_humidity_9am  \\\n",
            "0                    0.0                0.0              42.420000   \n",
            "1                    0.0                0.0              24.328697   \n",
            "2                    0.0               20.0               8.900000   \n",
            "3                    0.0                0.0              12.189102   \n",
            "4                    8.9            14730.0              92.410000   \n",
            "\n",
            "   relative_humidity_3pm  \n",
            "0              36.160000  \n",
            "1              19.426597  \n",
            "2              14.460000  \n",
            "3              12.742547  \n",
            "4              76.740000  \n",
            "\n",
            "DataFrame after dropping rows with missing values (in-place):\n",
            "   number  air_pressure_9am  air_temp_9am  avg_wind_direction_9am  \\\n",
            "0       0        918.060000     74.822000              271.100000   \n",
            "1       1        917.347688     71.403843              101.935179   \n",
            "2       2        923.040000     60.638000               51.000000   \n",
            "3       3        920.502751     70.138895              198.832133   \n",
            "4       4        921.160000     44.294000              277.800000   \n",
            "\n",
            "   avg_wind_speed_9am  max_wind_direction_9am  max_wind_speed_9am  \\\n",
            "0            2.080354              295.400000            2.863283   \n",
            "1            2.443009              140.471548            3.533324   \n",
            "2           17.067852               63.700000           22.100967   \n",
            "3            4.337363              211.203341            5.190045   \n",
            "4            1.856660              136.500000            2.863283   \n",
            "\n",
            "   rain_accumulation_9am  rain_duration_9am  relative_humidity_9am  \\\n",
            "0                    0.0                0.0              42.420000   \n",
            "1                    0.0                0.0              24.328697   \n",
            "2                    0.0               20.0               8.900000   \n",
            "3                    0.0                0.0              12.189102   \n",
            "4                    8.9            14730.0              92.410000   \n",
            "\n",
            "   relative_humidity_3pm  \n",
            "0              36.160000  \n",
            "1              19.426597  \n",
            "2              14.460000  \n",
            "3              12.742547  \n",
            "4              76.740000  \n"
          ]
        }
      ]
    },
    {
      "cell_type": "code",
      "source": [
        "import pandas as pd\n",
        "from sklearn.preprocessing import MinMaxScaler\n",
        "\n",
        "# Load your data file into a DataFrame\n",
        "df = pd.read_csv('/content/Daily Weather.csv')\n",
        "\n",
        "# Find numerical columns\n",
        "numerical_columns = df.select_dtypes(include=['int64', 'float64']).columns\n",
        "\n",
        "# Print numerical columns\n",
        "print(\"Numerical columns:\")\n",
        "print(numerical_columns)\n",
        "\n",
        "# Choose a numerical column\n",
        "column_name = input(\"Enter the name of the numerical column to normalize: \")\n",
        "\n",
        "# Check if the column exists and is numerical\n",
        "if column_name in numerical_columns:\n",
        "    # Create a MinMaxScaler object\n",
        "    scaler = MinMaxScaler()\n",
        "\n",
        "    # Fit and transform the column\n",
        "    df[f\"{column_name}_normalized\"] = scaler.fit_transform(df[[column_name]])\n",
        "\n",
        "    # Print the normalized column\n",
        "    print(f\"\\nNormalized '{column_name}' column:\")\n",
        "    print(df[[column_name, f\"{column_name}_normalized\"]].head())\n",
        "else:\n",
        "    print(\"The column does not exist or is not numerical.\")\n"
      ],
      "metadata": {
        "colab": {
          "base_uri": "https://localhost:8080/"
        },
        "id": "uQ9Aejeowucs",
        "outputId": "af882268-1358-411e-d2c1-72fb017e161b"
      },
      "execution_count": null,
      "outputs": [
        {
          "output_type": "stream",
          "name": "stdout",
          "text": [
            "Numerical columns:\n",
            "Index(['number', 'air_pressure_9am', 'air_temp_9am', 'avg_wind_direction_9am',\n",
            "       'avg_wind_speed_9am', 'max_wind_direction_9am', 'max_wind_speed_9am',\n",
            "       'rain_accumulation_9am', 'rain_duration_9am', 'relative_humidity_9am',\n",
            "       'relative_humidity_3pm'],\n",
            "      dtype='object')\n",
            "Enter the name of the numerical column to normalize: 2\n",
            "The column does not exist or is not numerical.\n"
          ]
        }
      ]
    },
    {
      "cell_type": "code",
      "source": [
        "import pandas as pd\n",
        "from sklearn.preprocessing import StandardScaler\n",
        "\n",
        "# Load your data file into a DataFrame\n",
        "df = pd.read_csv('/content/Daily Weather.csv')\n",
        "\n",
        "# Find numerical columns\n",
        "numerical_columns = df.select_dtypes(include=['int64', 'float64']).columns\n",
        "\n",
        "# Print numerical columns\n",
        "print(\"Numerical columns:\")\n",
        "print(numerical_columns)\n",
        "\n",
        "# Choose a numerical column\n",
        "column_name = input(\"Enter the name of the numerical column to standardize: \")\n",
        "\n",
        "# Check if the column exists and is numerical\n",
        "if column_name in numerical_columns:\n",
        "    # Create a StandardScaler object\n",
        "    scaler = StandardScaler()\n",
        "\n",
        "    # Fit and transform the column\n",
        "    df[f\"{column_name}_standardized\"] = scaler.fit_transform(df[[column_name]])\n",
        "\n",
        "    # Print the standardized column\n",
        "    print(f\"\\nStandardized '{column_name}' column:\")\n",
        "    print(df[[column_name, f\"{column_name}_standardized\"]].head())\n",
        "\n",
        "    # Print the mean and standard deviation of the standardized column\n",
        "    print(f\"\\nMean of standardized '{column_name}' column: {df[f'{column_name}_standardized'].mean():.4f}\")\n",
        "    print(f\"Standard deviation of standardized '{column_name}' column: {df[f'{column_name}_standardized'].std():.4f}\")\n",
        "else:\n",
        "    print(\"The column does not exist or is not numerical.\")\n"
      ],
      "metadata": {
        "colab": {
          "base_uri": "https://localhost:8080/"
        },
        "id": "1jp8lEsQySkx",
        "outputId": "03478257-f04f-49f7-dffc-b3ec24c4fa17"
      },
      "execution_count": null,
      "outputs": [
        {
          "output_type": "stream",
          "name": "stdout",
          "text": [
            "Numerical columns:\n",
            "Index(['number', 'air_pressure_9am', 'air_temp_9am', 'avg_wind_direction_9am',\n",
            "       'avg_wind_speed_9am', 'max_wind_direction_9am', 'max_wind_speed_9am',\n",
            "       'rain_accumulation_9am', 'rain_duration_9am', 'relative_humidity_9am',\n",
            "       'relative_humidity_3pm'],\n",
            "      dtype='object')\n",
            "Enter the name of the numerical column to standardize: 2\n",
            "The column does not exist or is not numerical.\n"
          ]
        }
      ]
    },
    {
      "cell_type": "code",
      "source": [
        "import pandas as pd\n",
        "\n",
        "# Load your data file into a DataFrame\n",
        "df = pd.read_csv('/content/Daily Weather.csv')\n",
        "\n",
        "# Find numerical columns\n",
        "numerical_columns = df.select_dtypes(include=['int64', 'float64']).columns\n",
        "\n",
        "# Print numerical columns\n",
        "print(\"Numerical columns:\")\n",
        "print(numerical_columns)\n",
        "\n",
        "# Choose a numerical column\n",
        "column_name = input(\"Enter the name of the numerical column to perform a mathematical operation on: \")\n",
        "\n",
        "# Check if the column exists and is numerical\n",
        "if column_name in numerical_columns:\n",
        "    # Choose a mathematical operation\n",
        "    print(\"\\nMathematical operations:\")\n",
        "    print(\"1. Multiply by a constant\")\n",
        "    print(\"2. Add a constant\")\n",
        "    print(\"3. Square the values\")\n",
        "    print(\"4. Calculate the logarithm\")\n",
        "\n",
        "    operation = input(\"Enter the number of the mathematical operation to perform: \")\n",
        "\n",
        "    if operation == '1':\n",
        "        constant = float(input(\"Enter the constant to multiply by: \"))\n",
        "        df[f\"{column_name}_multiplied\"] = df[column_name] * constant\n",
        "    elif operation == '2':\n",
        "        constant = float(input(\"Enter the constant to add: \"))\n",
        "        df[f\"{column_name}_added\"] = df[column_name] + constant\n",
        "    elif operation == '3':\n",
        "        df[f\"{column_name}_squared\"] = df[column_name] ** 2\n",
        "    elif operation == '4':\n",
        "        import numpy as np\n",
        "        df[f\"{column_name}_log\"] = np.log(df[column_name])\n",
        "    else:\n",
        "        print(\"Invalid operation.\")\n",
        "\n",
        "    # Print the new column\n",
        "    if operation in ['1', '2', '3', '4']:\n",
        "        if operation == '1':\n",
        "            print(f\"\\n'{column_name}' column multiplied by {constant}:\")\n",
        "            print(df[[column_name, f\"{column_name}_multiplied\"]].head())\n",
        "        elif operation == '2':\n",
        "            print(f\"\\n'{column_name}' column with {constant} added:\")\n",
        "            print(df[[column_name, f\"{column_name}_added\"]].head())\n",
        "        elif operation == '3':\n",
        "            print(f\"\\n'{column_name}' column squared:\")\n",
        "            print(df[[column_name, f\"{column_name}_squared\"]].head())\n",
        "        elif operation == '4':\n",
        "            print(f\"\\nLogarithm of '{column_name}' column:\")\n",
        "            print(df[[column_name, f\"{column_name}_log\"]].head())\n",
        "else:\n",
        "    print(\"The column does not exist or is not numerical.\")\n",
        "\n"
      ],
      "metadata": {
        "colab": {
          "base_uri": "https://localhost:8080/"
        },
        "id": "3eomgGQKzDdp",
        "outputId": "659043ef-2a36-4a7a-b45c-76a226c8c4a9"
      },
      "execution_count": null,
      "outputs": [
        {
          "output_type": "stream",
          "name": "stdout",
          "text": [
            "Numerical columns:\n",
            "Index(['number', 'air_pressure_9am', 'air_temp_9am', 'avg_wind_direction_9am',\n",
            "       'avg_wind_speed_9am', 'max_wind_direction_9am', 'max_wind_speed_9am',\n",
            "       'rain_accumulation_9am', 'rain_duration_9am', 'relative_humidity_9am',\n",
            "       'relative_humidity_3pm'],\n",
            "      dtype='object')\n",
            "Enter the name of the numerical column to perform a mathematical operation on: 5\n",
            "The column does not exist or is not numerical.\n"
          ]
        }
      ]
    },
    {
      "cell_type": "code",
      "source": [
        "import pandas as pd\n",
        "\n",
        "# Load your data file into a DataFrame\n",
        "df = pd.read_csv('/content/Daily Weather.csv')\n",
        "\n",
        "# Find numerical columns\n",
        "numerical_columns = df.select_dtypes(include=['int64', 'float64']).columns\n",
        "\n",
        "# Print numerical columns\n",
        "print(\"Numerical columns:\")\n",
        "print(numerical_columns)\n",
        "\n",
        "# Choose a numerical column\n",
        "column_name = input(\"Enter the name of the numerical column to change data type: \")\n",
        "\n",
        "# Check if the column exists and is numerical\n",
        "if column_name in numerical_columns:\n",
        "    # Check if the column has any decimal values\n",
        "    if df[column_name].apply(lambda x: x % 1 == 0).all():\n",
        "        # Change the data type of the column to int\n",
        "        df[column_name] = df[column_name].astype('int64')\n",
        "        print(f\"\\nData type of '{column_name}' column changed to int64.\")\n",
        "        print(df[column_name].dtype)\n",
        "    else:\n",
        "        print(f\"\\nThe '{column_name}' column has decimal values. You may lose data if you convert it to int.\")\n",
        "        confirm = input(\"Do you want to continue? (yes/no): \")\n",
        "        if confirm.lower() == 'yes':\n",
        "            # Change the data type of the column to int\n",
        "            df[column_name] = df[column_name].astype('int64')\n",
        "            print(f\"\\nData type of '{column_name}' column changed to int64.\")\n",
        "            print(df[column_name].dtype)\n",
        "        else:\n",
        "            print(\"Operation cancelled.\")\n",
        "else:\n",
        "    print(\"The column does not exist or is not numerical.\")\n"
      ],
      "metadata": {
        "colab": {
          "base_uri": "https://localhost:8080/"
        },
        "id": "G9Tx8ByC0jr4",
        "outputId": "c7b0e630-d1c1-4dc5-d8b9-db7808a2642d"
      },
      "execution_count": null,
      "outputs": [
        {
          "output_type": "stream",
          "name": "stdout",
          "text": [
            "Numerical columns:\n",
            "Index(['number', 'air_pressure_9am', 'air_temp_9am', 'avg_wind_direction_9am',\n",
            "       'avg_wind_speed_9am', 'max_wind_direction_9am', 'max_wind_speed_9am',\n",
            "       'rain_accumulation_9am', 'rain_duration_9am', 'relative_humidity_9am',\n",
            "       'relative_humidity_3pm'],\n",
            "      dtype='object')\n",
            "Enter the name of the numerical column to change data type: 4\n",
            "The column does not exist or is not numerical.\n"
          ]
        }
      ]
    },
    {
      "cell_type": "code",
      "source": [
        "import pandas as pd\n",
        "\n",
        "# Load your data file into a DataFrame\n",
        "df = pd.read_csv('/content/Daily Weather.csv')\n",
        "\n",
        "# Find categorical columns\n",
        "categorical_columns = df.select_dtypes(include=['object']).columns\n",
        "\n",
        "# Print categorical columns\n",
        "print(\"Categorical columns:\")\n",
        "print(categorical_columns)\n",
        "\n",
        "# Choose a categorical column\n",
        "column_name = input(\"Enter the name of the categorical column to one-hot encode: \")\n",
        "\n",
        "# Check if the column exists and is categorical\n",
        "if column_name in categorical_columns:\n",
        "    # Apply one-hot encoding\n",
        "    df_onehot = pd.get_dummies(df[column_name], prefix=column_name)\n",
        "\n",
        "    # Concatenate the one-hot encoded columns with the original DataFrame\n",
        "    df = pd.concat([df, df_onehot], axis=1)\n",
        "\n",
        "    print(f\"\\nOne-hot encoding applied to '{column_name}' column:\")\n",
        "    print(df.head())\n",
        "else:\n",
        "    print(\"The column does not exist or is not categorical.\")\n",
        "\n"
      ],
      "metadata": {
        "colab": {
          "base_uri": "https://localhost:8080/"
        },
        "id": "2UW3lWMe045C",
        "outputId": "26c4ee59-88f8-404f-a7f4-48ad9ad06f15"
      },
      "execution_count": null,
      "outputs": [
        {
          "output_type": "stream",
          "name": "stdout",
          "text": [
            "Categorical columns:\n",
            "Index([], dtype='object')\n",
            "Enter the name of the categorical column to one-hot encode: 3\n",
            "The column does not exist or is not categorical.\n"
          ]
        }
      ]
    },
    {
      "cell_type": "code",
      "source": [
        "\n",
        "import pandas as pd\n",
        "\n",
        "# Load your data file into a DataFrame\n",
        "df = pd.read_csv('/content/Daily Weather.csv')\n",
        "\n",
        "# Print the columns\n",
        "print(\"Columns:\")\n",
        "print(df.columns)\n",
        "\n",
        "# Choose a column\n",
        "column_name = input(\"Enter the name of the column to replace values: \")\n",
        "\n",
        "# Check if the column exists\n",
        "if column_name in df.columns:\n",
        "    # Print the unique values in the column\n",
        "    print(f\"\\nUnique values in '{column_name}' column:\")\n",
        "    print(df[column_name].unique())\n",
        "\n",
        "    # Specify the values to replace and their replacements\n",
        "    values_to_replace = input(\"Enter the values to replace (comma-separated): \")\n",
        "    values_to_replace = [value.strip() for value in values_to_replace.split(',')]\n",
        "    new_values = input(\"Enter the new values (comma-separated): \")\n",
        "    new_values = [value.strip() for value in new_values.split(',')]\n",
        "\n",
        "    # Check if the number of values to replace and new values match\n",
        "    if len(values_to_replace) == len(new_values):\n",
        "        # Replace the values\n",
        "        df[column_name] = df[column_name].replace(values_to_replace, new_values)\n",
        "\n",
        "        # Print the updated column\n",
        "        print(f\"\\nUpdated '{column_name}' column:\")\n",
        "        print(df[column_name].unique())\n",
        "    else:\n",
        "        print(\"The number of values to replace and new values do not match.\")\n",
        "else:\n",
        "    print(\"The column does not exist.\")\n",
        "\n"
      ],
      "metadata": {
        "colab": {
          "base_uri": "https://localhost:8080/"
        },
        "id": "DN1Tlvi62Eb4",
        "outputId": "35726f0f-f128-42c7-a550-b66eede78456"
      },
      "execution_count": null,
      "outputs": [
        {
          "output_type": "stream",
          "name": "stdout",
          "text": [
            "Columns:\n",
            "Index(['number', 'air_pressure_9am', 'air_temp_9am', 'avg_wind_direction_9am',\n",
            "       'avg_wind_speed_9am', 'max_wind_direction_9am', 'max_wind_speed_9am',\n",
            "       'rain_accumulation_9am', 'rain_duration_9am', 'relative_humidity_9am',\n",
            "       'relative_humidity_3pm'],\n",
            "      dtype='object')\n",
            "Enter the name of the column to replace values: 6\n",
            "The column does not exist.\n"
          ]
        }
      ]
    },
    {
      "cell_type": "code",
      "source": [
        "import pandas as pd\n",
        "import numpy as np\n",
        "\n",
        "# Load your data file into a DataFrame\n",
        "df = pd.read_csv('/content/Daily Weather.csv')\n",
        "\n",
        "# Find numerical columns\n",
        "numerical_columns = df.select_dtypes(include=['int64', 'float64']).columns\n",
        "\n",
        "# Print numerical columns\n",
        "print(\"Numerical columns:\")\n",
        "print(numerical_columns)\n",
        "\n",
        "# Choose a numerical column\n",
        "column_name = input(\"Enter the name of the numerical column to detect outliers: \")\n",
        "\n",
        "# Check if the column exists and is numerical\n",
        "if column_name in numerical_columns:\n",
        "    # Calculate Q1 and Q3\n",
        "    Q1 = df[column_name].quantile(0.25)\n",
        "    Q3 = df[column_name].quantile(0.75)\n",
        "\n",
        "    # Calculate IQR\n",
        "    IQR = Q3 - Q1\n",
        "\n",
        "    # Calculate lower and upper bounds\n",
        "    lower_bound = Q1 - 1.5 * IQR\n",
        "    upper_bound = Q3 + 1.5 * IQR\n",
        "\n",
        "    # Print the bounds\n",
        "    print(f\"\\nLower bound: {lower_bound}\")\n",
        "    print(f\"Upper bound: {upper_bound}\")\n",
        "\n",
        "    # Detect outliers\n",
        "    outliers = df[(df[column_name] < lower_bound) | (df[column_name] > upper_bound)]\n",
        "\n",
        "    # Print the number of outliers\n",
        "    print(f\"\\nNumber of outliers: {len(outliers)}\")\n",
        "\n",
        "    # Remove outliers\n",
        "    df_cleaned = df[(df[column_name] >= lower_bound) & (df[column_name] <= upper_bound)]\n",
        "\n",
        "    # Print the number of rows after removing outliers\n",
        "    print(f\"\\nNumber of rows after removing outliers: {len(df_cleaned)}\")\n",
        "\n",
        "    # Print the cleaned DataFrame\n",
        "    print(\"\\nCleaned DataFrame:\")\n",
        "    print(df_cleaned.head())\n",
        "else:\n",
        "    print(\"The column does not exist or is not numerical.\")\n",
        "\n"
      ],
      "metadata": {
        "colab": {
          "base_uri": "https://localhost:8080/"
        },
        "id": "zMlWNLfx2xbj",
        "outputId": "de329a41-685a-4351-9d15-5fb9f383cabd"
      },
      "execution_count": null,
      "outputs": [
        {
          "output_type": "stream",
          "name": "stdout",
          "text": [
            "Numerical columns:\n",
            "Index(['number', 'air_pressure_9am', 'air_temp_9am', 'avg_wind_direction_9am',\n",
            "       'avg_wind_speed_9am', 'max_wind_direction_9am', 'max_wind_speed_9am',\n",
            "       'rain_accumulation_9am', 'rain_duration_9am', 'relative_humidity_9am',\n",
            "       'relative_humidity_3pm'],\n",
            "      dtype='object')\n",
            "Enter the name of the numerical column to detect outliers: 4\n",
            "The column does not exist or is not numerical.\n"
          ]
        }
      ]
    },
    {
      "cell_type": "code",
      "source": [
        "\n",
        "import pandas as pd\n",
        "\n",
        "# Load the first dataset\n",
        "df1 = pd.read_csv('/content/Daily Weather.csv')\n",
        "\n",
        "# Load the second dataset\n",
        "df2 = pd.read_csv('/content/Daily Weather.csv')\n",
        "\n",
        "# Print the columns of both datasets\n",
        "print(\"Columns in dataset1:\")\n",
        "print(df1.columns)\n",
        "print(\"\\nColumns in dataset2:\")\n",
        "print(df2.columns)\n",
        "\n",
        "# Choose the common key\n",
        "common_key = input(\"Enter the common key to merge on: \")\n",
        "\n",
        "# Check if the common key exists in both datasets\n",
        "if common_key in df1.columns and common_key in df2.columns:\n",
        "    # Merge the datasets\n",
        "    merged_df = pd.merge(df1, df2, on=common_key)\n",
        "\n",
        "    # Print the merged dataset\n",
        "    print(\"\\nMerged dataset:\")\n",
        "    print(merged_df.head())\n",
        "else:\n",
        "    print(\"The common key does not exist in both datasets.\")\n",
        "\n",
        "# Choose the type of merge\n",
        "print(\"\\nTypes of merge:\")\n",
        "print(\"1. Inner merge (default)\")\n",
        "print(\"2. Left merge\")\n",
        "print(\"3. Right merge\")\n",
        "print(\"4. Full outer merge\")\n",
        "\n",
        "merge_type = input(\"Enter the number of the type of merge: \")\n",
        "\n",
        "if merge_type == '1':\n",
        "    merged_df = pd.merge(df1, df2, on=common_key, how='inner')\n",
        "elif merge_type == '2':\n",
        "    merged_df = pd.merge(df1, df2, on=common_key, how='left')\n",
        "elif merge_type == '3':\n",
        "    merged_df = pd.merge(df1, df2, on=common_key, how='right')\n",
        "elif merge_type == '4':\n",
        "    merged_df = pd.merge(df1, df2, on=common_key, how='outer')\n",
        "else:\n",
        "    print(\"Invalid merge type.\")\n"
      ],
      "metadata": {
        "colab": {
          "base_uri": "https://localhost:8080/"
        },
        "id": "zigTEt0U3Wfi",
        "outputId": "612111f8-1613-4c55-8ca3-7bae985302f3"
      },
      "execution_count": null,
      "outputs": [
        {
          "output_type": "stream",
          "name": "stdout",
          "text": [
            "Columns in dataset1:\n",
            "Index(['number', 'air_pressure_9am', 'air_temp_9am', 'avg_wind_direction_9am',\n",
            "       'avg_wind_speed_9am', 'max_wind_direction_9am', 'max_wind_speed_9am',\n",
            "       'rain_accumulation_9am', 'rain_duration_9am', 'relative_humidity_9am',\n",
            "       'relative_humidity_3pm'],\n",
            "      dtype='object')\n",
            "\n",
            "Columns in dataset2:\n",
            "Index(['number', 'air_pressure_9am', 'air_temp_9am', 'avg_wind_direction_9am',\n",
            "       'avg_wind_speed_9am', 'max_wind_direction_9am', 'max_wind_speed_9am',\n",
            "       'rain_accumulation_9am', 'rain_duration_9am', 'relative_humidity_9am',\n",
            "       'relative_humidity_3pm'],\n",
            "      dtype='object')\n",
            "Enter the common key to merge on: 4\n",
            "The common key does not exist in both datasets.\n",
            "\n",
            "Types of merge:\n",
            "1. Inner merge (default)\n",
            "2. Left merge\n",
            "3. Right merge\n",
            "4. Full outer merge\n",
            "Enter the number of the type of merge: 6\n",
            "Invalid merge type.\n"
          ]
        }
      ]
    },
    {
      "cell_type": "code",
      "source": [
        "import pandas as pd\n",
        "import matplotlib.pyplot as plt\n",
        "\n",
        "# Load your data file into a DataFrame\n",
        "df = pd.read_csv('/content/Daily Weather.csv')\n",
        "\n",
        "# Find numerical columns\n",
        "numerical_columns = df.select_dtypes(include=['int64', 'float64']).columns\n",
        "\n",
        "# Print numerical columns\n",
        "print(\"Numerical columns:\")\n",
        "print(numerical_columns)\n",
        "\n",
        "# Choose a numerical column\n",
        "column_name = input(\"Enter the name of the numerical column to plot: \")\n",
        "\n",
        "# Check if the column exists and is numerical\n",
        "if column_name in numerical_columns:\n",
        "    # Plot the histogram\n",
        "    plt.figure(figsize=(8, 6))\n",
        "    plt.hist(df[column_name], bins=10, edgecolor='black')\n",
        "    plt.title(f\"Histogram of {column_name}\")\n",
        "    plt.xlabel(column_name)\n",
        "    plt.ylabel(\"Frequency\")\n",
        "    plt.show()\n",
        "else:\n",
        "    print(\"The column does not exist or is not numerical.\")\n"
      ],
      "metadata": {
        "colab": {
          "base_uri": "https://localhost:8080/"
        },
        "id": "RZiKKlb83koB",
        "outputId": "fe99983d-7ac2-4195-c81f-dfe735ff18c1"
      },
      "execution_count": null,
      "outputs": [
        {
          "output_type": "stream",
          "name": "stdout",
          "text": [
            "Numerical columns:\n",
            "Index(['number', 'air_pressure_9am', 'air_temp_9am', 'avg_wind_direction_9am',\n",
            "       'avg_wind_speed_9am', 'max_wind_direction_9am', 'max_wind_speed_9am',\n",
            "       'rain_accumulation_9am', 'rain_duration_9am', 'relative_humidity_9am',\n",
            "       'relative_humidity_3pm'],\n",
            "      dtype='object')\n",
            "Enter the name of the numerical column to plot: 4\n",
            "The column does not exist or is not numerical.\n"
          ]
        }
      ]
    },
    {
      "cell_type": "code",
      "source": [
        "import pandas as pd\n",
        "import matplotlib.pyplot as plt\n",
        "\n",
        "# Load your data file into a DataFrame\n",
        "df = pd.read_csv('/content/Daily Weather.csv')\n",
        "\n",
        "# Find categorical columns\n",
        "categorical_columns = df.select_dtypes(include=['object']).columns\n",
        "\n",
        "# Print categorical columns\n",
        "print(\"Categorical columns:\")\n",
        "print(categorical_columns)\n",
        "\n",
        "# Choose a categorical column\n",
        "column_name = input(\"Enter the name of the categorical column to plot: \")\n",
        "\n",
        "# Check if the column exists and is categorical\n",
        "if column_name in categorical_columns:\n",
        "    # Calculate the frequency of categories\n",
        "    frequency = df[column_name].value_counts()\n",
        "\n",
        "    # Plot the bar chart\n",
        "    plt.figure(figsize=(8, 6))\n",
        "    frequency.plot(kind='bar')\n",
        "    plt.title(f\"Frequency of categories in {column_name}\")\n",
        "    plt.xlabel(column_name)\n",
        "    plt.ylabel(\"Frequency\")\n",
        "    plt.xticks(rotation=90)\n",
        "    plt.tight_layout()\n",
        "    plt.show()\n",
        "else:\n",
        "    print(\"The column does not exist or is not categorical.\")\n",
        "\n"
      ],
      "metadata": {
        "colab": {
          "base_uri": "https://localhost:8080/"
        },
        "id": "_ZAUt2Zm3641",
        "outputId": "5df73f42-de8c-4a88-d05d-6f7f621ef680"
      },
      "execution_count": null,
      "outputs": [
        {
          "output_type": "stream",
          "name": "stdout",
          "text": [
            "Categorical columns:\n",
            "Index([], dtype='object')\n",
            "Enter the name of the categorical column to plot: 3\n",
            "The column does not exist or is not categorical.\n"
          ]
        }
      ]
    },
    {
      "cell_type": "code",
      "source": [
        "import pandas as pd\n",
        "import matplotlib.pyplot as plt\n",
        "\n",
        "# Load your data file into a DataFrame\n",
        "df = pd.read_csv('/content/Daily Weather.csv')\n",
        "\n",
        "# Find numerical columns\n",
        "numerical_columns = df.select_dtypes(include=['int64', 'float64']).columns\n",
        "\n",
        "# Print numerical columns\n",
        "print(\"Numerical columns:\")\n",
        "print(numerical_columns)\n",
        "\n",
        "# Choose two numerical columns\n",
        "x_column = input(\"Enter the name of the x-axis column: \")\n",
        "y_column = input(\"Enter the name of the y-axis column: \")\n",
        "\n",
        "# Check if the columns exist and are numerical\n",
        "if x_column in numerical_columns and y_column in numerical_columns:\n",
        "    # Create the scatter plot\n",
        "    plt.figure(figsize=(8, 6))\n",
        "    plt.scatter(df[x_column], df[y_column])\n",
        "    plt.title(f\"Scatter plot of {x_column} vs {y_column}\")\n",
        "    plt.xlabel(x_column)\n",
        "    plt.ylabel(y_column)\n",
        "    plt.show()\n",
        "else:\n",
        "    print(\"One or both columns do not exist or are not numerical.\")\n"
      ],
      "metadata": {
        "colab": {
          "base_uri": "https://localhost:8080/"
        },
        "id": "tTkC3b-T4P6O",
        "outputId": "c8e03f48-bfae-4992-8eee-b8f449486514"
      },
      "execution_count": null,
      "outputs": [
        {
          "output_type": "stream",
          "name": "stdout",
          "text": [
            "Numerical columns:\n",
            "Index(['number', 'air_pressure_9am', 'air_temp_9am', 'avg_wind_direction_9am',\n",
            "       'avg_wind_speed_9am', 'max_wind_direction_9am', 'max_wind_speed_9am',\n",
            "       'rain_accumulation_9am', 'rain_duration_9am', 'relative_humidity_9am',\n",
            "       'relative_humidity_3pm'],\n",
            "      dtype='object')\n",
            "Enter the name of the x-axis column: 4\n",
            "Enter the name of the y-axis column: 2\n",
            "One or both columns do not exist or are not numerical.\n"
          ]
        }
      ]
    },
    {
      "cell_type": "code",
      "source": [
        "import pandas as pd\n",
        "import matplotlib.pyplot as plt\n",
        "\n",
        "# Load your data file into a DataFrame\n",
        "df = pd.read_csv('/content/Daily Weather.csv')\n",
        "\n",
        "# Find numerical columns\n",
        "numerical_columns = df.select_dtypes(include=['int64', 'float64']).columns\n",
        "\n",
        "# Print numerical columns\n",
        "print(\"Numerical columns:\")\n",
        "print(numerical_columns)\n",
        "\n",
        "# Choose a numerical column\n",
        "column_name = input(\"Enter the name of the numerical column to plot: \")\n",
        "\n",
        "# Check if the column exists and is numerical\n",
        "if column_name in numerical_columns:\n",
        "    # Create the boxplot\n",
        "    plt.figure(figsize=(8, 6))\n",
        "    plt.boxplot(df[column_name], vert=False)\n",
        "    plt.title(f\"Boxplot of {column_name}\")\n",
        "    plt.show()\n",
        "else:\n",
        "    print(\"The column does not exist or is not numerical.\")\n",
        "\n"
      ],
      "metadata": {
        "colab": {
          "base_uri": "https://localhost:8080/"
        },
        "id": "VOq8LTwa4d2v",
        "outputId": "6af00449-bcf7-4fff-a0ec-59f369dacfeb"
      },
      "execution_count": null,
      "outputs": [
        {
          "output_type": "stream",
          "name": "stdout",
          "text": [
            "Numerical columns:\n",
            "Index(['number', 'air_pressure_9am', 'air_temp_9am', 'avg_wind_direction_9am',\n",
            "       'avg_wind_speed_9am', 'max_wind_direction_9am', 'max_wind_speed_9am',\n",
            "       'rain_accumulation_9am', 'rain_duration_9am', 'relative_humidity_9am',\n",
            "       'relative_humidity_3pm'],\n",
            "      dtype='object')\n",
            "Enter the name of the numerical column to plot: 5\n",
            "The column does not exist or is not numerical.\n"
          ]
        }
      ]
    },
    {
      "cell_type": "code",
      "source": [
        "import pandas as pd\n",
        "import matplotlib.pyplot as plt\n",
        "\n",
        "# Load your data file into a DataFrame\n",
        "df = pd.read_csv('/content/Daily Weather.csv')\n",
        "\n",
        "# Find categorical columns\n",
        "categorical_columns = df.select_dtypes(include=['object']).columns\n",
        "\n",
        "# Print categorical columns\n",
        "print(\"Categorical columns:\")\n",
        "print(categorical_columns)\n",
        "\n",
        "# Choose a categorical column\n",
        "column_name = input(\"Enter the name of the categorical column to plot: \")\n",
        "\n",
        "# Check if the column exists and is categorical\n",
        "if column_name in categorical_columns:\n",
        "    # Calculate the frequency of categories\n",
        "    frequency = df[column_name].value_counts()\n",
        "\n",
        "    # Plot the pie chart\n",
        "    plt.figure(figsize=(8, 6))\n",
        "    plt.pie(frequency, labels=frequency.index, autopct='%1.1f%%')\n",
        "    plt.title(f\"Category distribution of {column_name}\")\n",
        "    plt.show()\n",
        "else:\n",
        "    print(\"The column does not exist or is not categorical.\")\n"
      ],
      "metadata": {
        "colab": {
          "base_uri": "https://localhost:8080/"
        },
        "id": "SdP4ySQu4suj",
        "outputId": "9ded1dfb-361c-481d-fdab-090edf879ab3"
      },
      "execution_count": null,
      "outputs": [
        {
          "output_type": "stream",
          "name": "stdout",
          "text": [
            "Categorical columns:\n",
            "Index([], dtype='object')\n",
            "Enter the name of the categorical column to plot: 1\n",
            "The column does not exist or is not categorical.\n"
          ]
        }
      ]
    },
    {
      "cell_type": "code",
      "source": [
        "import pandas as pd\n",
        "import seaborn as sns\n",
        "import matplotlib.pyplot as plt\n",
        "\n",
        "# Load your data file into a DataFrame\n",
        "df = pd.read_csv('/content/Daily Weather.csv')\n",
        "\n",
        "# Find numerical columns\n",
        "numerical_columns = df.select_dtypes(include=['int64', 'float64']).columns\n",
        "\n",
        "# Check if there are at least two numerical columns\n",
        "if len(numerical_columns) >= 2:\n",
        "    # Calculate the correlation matrix\n",
        "    correlation_matrix = df[numerical_columns].corr()\n",
        "\n",
        "    # Create the heatmap\n",
        "    plt.figure(figsize=(10, 8))\n",
        "    sns.heatmap(correlation_matrix, annot=True, cmap='coolwarm', square=True)\n",
        "    plt.title(\"Heatmap of correlations between numerical columns\")\n",
        "    plt.show()\n",
        "else:\n",
        "    print(\"There must be at least two numerical columns to calculate correlations.\")\n",
        "\n"
      ],
      "metadata": {
        "colab": {
          "base_uri": "https://localhost:8080/",
          "height": 861
        },
        "id": "yvv15wjb4-1J",
        "outputId": "ec1ac5ba-79c6-4cc6-dac0-73eb64eb585a"
      },
      "execution_count": null,
      "outputs": [
        {
          "output_type": "display_data",
          "data": {
            "text/plain": [
              "<Figure size 1000x800 with 2 Axes>"
            ],
            "image/png": "[encoded data removed]"
          },
          "metadata": {}
        }
      ]
    },
    {
      "cell_type": "code",
      "source": [
        "import pandas as pd\n",
        "import matplotlib.pyplot as plt\n",
        "\n",
        "# Load your data file into a DataFrame\n",
        "df = pd.read_csv('/content/Daily Weather.csv')\n",
        "\n",
        "# Find date columns\n",
        "date_columns = []\n",
        "for column in df.columns:\n",
        "    try:\n",
        "        df[column] = pd.to_datetime(df[column])\n",
        "        date_columns.append(column)\n",
        "    except ValueError:\n",
        "        pass\n",
        "\n",
        "# Print date columns\n",
        "print(\"Date columns:\")\n",
        "print(date_columns)\n",
        "\n",
        "# Check if there are any date columns\n",
        "if date_columns:\n",
        "    # Choose a date column\n",
        "    date_column = input(\"Enter the name of the date column: \")\n",
        "\n",
        "    # Choose a numerical column\n",
        "    numerical_columns = df.select_dtypes(include=['int64', 'float64']).columns\n",
        "    print(\"Numerical columns:\")\n",
        "    print(numerical_columns)\n",
        "    numerical_column = input(\"Enter the name of the numerical column to plot: \")\n",
        "\n",
        "    # Check if the columns exist\n",
        "    if date_column in date_columns and numerical_column in numerical_columns:\n",
        "        # Group by date and calculate the mean\n",
        "        df_grouped = df.groupby(date_column)[numerical_column].mean().reset_index()\n",
        "\n",
        "        # Sort the DataFrame by date\n",
        "        df_grouped = df_grouped.sort_values(by=date_column)\n",
        "\n",
        "        # Plot the line chart\n",
        "        plt.figure(figsize=(10, 6))\n",
        "        plt.plot(df_grouped[date_column], df_grouped[numerical_column], marker='o')\n",
        "        plt.title(f\"Trend of {numerical_column} over time\")\n",
        "        plt.xlabel(date_column)\n",
        "        plt.ylabel(numerical_column)\n",
        "        plt.xticks(rotation=45)\n",
        "        plt.show()\n",
        "    else:\n",
        "        print(\"One or both columns do not exist.\")\n",
        "else:\n",
        "    print(\"There are no date columns in the data.\")\n"
      ],
      "metadata": {
        "colab": {
          "base_uri": "https://localhost:8080/"
        },
        "id": "-1DOJDD15OGS",
        "outputId": "44601957-2255-4213-fcad-0cfd3b572834"
      },
      "execution_count": null,
      "outputs": [
        {
          "output_type": "stream",
          "name": "stdout",
          "text": [
            "Date columns:\n",
            "['number', 'air_pressure_9am', 'air_temp_9am', 'avg_wind_direction_9am', 'avg_wind_speed_9am', 'max_wind_direction_9am', 'max_wind_speed_9am', 'rain_accumulation_9am', 'rain_duration_9am', 'relative_humidity_9am', 'relative_humidity_3pm']\n",
            "Enter the name of the date column: 3\n",
            "Numerical columns:\n",
            "Index([], dtype='object')\n",
            "Enter the name of the numerical column to plot: 4\n",
            "One or both columns do not exist.\n"
          ]
        }
      ]
    },
    {
      "cell_type": "code",
      "source": [
        "import pandas as pd\n",
        "\n",
        "# Load your data file into a DataFrame\n",
        "df = pd.read_csv('/content/Daily Weather.csv')\n",
        "\n",
        "# Find categorical columns\n",
        "categorical_columns = df.select_dtypes(include=['object']).columns\n",
        "\n",
        "# Find numerical columns\n",
        "numerical_columns = df.select_dtypes(include=['int64', 'float64']).columns\n",
        "\n",
        "# Print categorical and numerical columns\n",
        "print(\"Categorical columns:\")\n",
        "print(categorical_columns)\n",
        "print(\"\\nNumerical columns:\")\n",
        "print(numerical_columns)\n",
        "\n",
        "# Choose a categorical column\n",
        "category_column = input(\"Enter the name of the categorical column: \")\n",
        "\n",
        "# Choose a numerical column\n",
        "numerical_column = input(\"Enter the name of the numerical column: \")\n",
        "\n",
        "# Check if the columns exist\n",
        "if category_column in categorical_columns and numerical_column in numerical_columns:\n",
        "    # Group by the categorical column and calculate the mean\n",
        "    grouped_df = df.groupby(category_column)[numerical_column].mean().reset_index()\n",
        "\n",
        "    # Print the grouped DataFrame\n",
        "    print(\"\\nGrouped DataFrame:\")\n",
        "    print(grouped_df)\n",
        "else:\n",
        "    print(\"One or both columns do not exist or are of the wrong type.\")\n"
      ],
      "metadata": {
        "colab": {
          "base_uri": "https://localhost:8080/"
        },
        "id": "2J68GbT75-Go",
        "outputId": "0b4efcd5-ee47-4261-f8f2-4cdc254953a1"
      },
      "execution_count": null,
      "outputs": [
        {
          "output_type": "stream",
          "name": "stdout",
          "text": [
            "Categorical columns:\n",
            "Index([], dtype='object')\n",
            "\n",
            "Numerical columns:\n",
            "Index(['number', 'air_pressure_9am', 'air_temp_9am', 'avg_wind_direction_9am',\n",
            "       'avg_wind_speed_9am', 'max_wind_direction_9am', 'max_wind_speed_9am',\n",
            "       'rain_accumulation_9am', 'rain_duration_9am', 'relative_humidity_9am',\n",
            "       'relative_humidity_3pm'],\n",
            "      dtype='object')\n",
            "Enter the name of the categorical column: 5\n",
            "Enter the name of the numerical column: 4\n",
            "One or both columns do not exist or are of the wrong type.\n"
          ]
        }
      ]
    },
    {
      "cell_type": "code",
      "source": [
        "\n",
        "import pandas as pd\n",
        "import matplotlib.pyplot as plt\n",
        "\n",
        "# Load your data file into a DataFrame\n",
        "df = pd.read_csv('/content/Daily Weather.csv')\n",
        "\n",
        "# Find categorical columns\n",
        "categorical_columns = df.select_dtypes(include=['object']).columns\n",
        "\n",
        "# Print categorical columns\n",
        "print(\"Categorical columns:\")\n",
        "print(categorical_columns)\n",
        "\n",
        "# Choose two categorical columns\n",
        "column1 = input(\"Enter the name of the first categorical column: \")\n",
        "column2 = input(\"Enter the name of the second categorical column: \")\n",
        "\n",
        "# Check if the columns exist\n",
        "if column1 in categorical_columns and column2 in categorical_columns:\n",
        "    # Create a crosstab\n",
        "    crosstab = pd.crosstab(df[column1], df[column2])\n",
        "\n",
        "    # Plot the stacked bar chart\n",
        "    crosstab.plot(kind='bar', stacked=True, figsize=(10, 6))\n",
        "    plt.title(f\"Stacked bar chart of {column1} vs {column2}\")\n",
        "    plt.xlabel(column1)\n",
        "    plt.ylabel(\"Count\")\n",
        "    plt.xticks(rotation=45)\n",
        "    plt.legend(title=column2)\n",
        "    plt.show()\n",
        "else:\n",
        "    print(\"One or both columns do not exist or are not categorical.\")\n",
        "import pandas as pd\n",
        "import matplotlib.pyplot as plt\n",
        "\n",
        "# Load your data file into a DataFrame\n",
        "df = pd.read_csv('/content/Daily Weather.csv')\n",
        "\n",
        "# Find categorical columns\n",
        "categorical_columns = df.select_dtypes(include=['object']).columns\n",
        "\n",
        "# Print categorical columns\n",
        "print(\"Categorical columns:\")\n",
        "print(categorical_columns)\n",
        "\n",
        "# Choose two categorical columns\n",
        "column1 = input(\"Enter the name of the first categorical column: \")\n",
        "column2 = input(\"Enter the name of the second categorical column: \")\n",
        "\n",
        "# Check if the columns exist\n",
        "if column1 in categorical_columns and column2 in categorical_columns:\n",
        "    # Create a crosstab\n",
        "    crosstab = pd.crosstab(df[column1], df[column2])\n",
        "\n",
        "    # Plot the stacked bar chart\n",
        "    crosstab.plot(kind='bar', stacked=True, figsize=(10, 6))\n",
        "    plt.title(f\"Stacked bar chart of {column1} vs {column2}\")\n",
        "    plt.xlabel(column1)\n",
        "    plt.ylabel(\"Count\")\n",
        "    plt.xticks(rotation=45)\n",
        "    plt.legend(title=column2)\n",
        "    plt.show()\n",
        "else:\n",
        "    print(\"One or both columns do not exist or are not categorical.\")\n"
      ],
      "metadata": {
        "colab": {
          "base_uri": "https://localhost:8080/"
        },
        "id": "5Y-UkeVP6ZO8",
        "outputId": "4d0041d5-0071-4a40-d8cd-5edd90a2b836"
      },
      "execution_count": null,
      "outputs": [
        {
          "output_type": "stream",
          "name": "stdout",
          "text": [
            "Categorical columns:\n",
            "Index([], dtype='object')\n",
            "Enter the name of the first categorical column: 4\n",
            "Enter the name of the second categorical column: 5\n",
            "One or both columns do not exist or are not categorical.\n",
            "Categorical columns:\n",
            "Index([], dtype='object')\n",
            "Enter the name of the first categorical column: 4\n",
            "Enter the name of the second categorical column: 5\n",
            "One or both columns do not exist or are not categorical.\n"
          ]
        }
      ]
    },
    {
      "cell_type": "code",
      "source": [
        "import pandas as pd\n",
        "import seaborn as sns\n",
        "import matplotlib.pyplot as plt\n",
        "\n",
        "# Load your data file into a DataFrame\n",
        "df = pd.read_csv('/content/Daily Weather.csv')\n",
        "\n",
        "# Find numerical columns\n",
        "numerical_columns = df.select_dtypes(include=['int64', 'float64']).columns\n",
        "\n",
        "# Print numerical columns\n",
        "print(\"Numerical columns:\")\n",
        "print(numerical_columns)\n",
        "\n",
        "# Choose a numerical column\n",
        "column_name = input(\"Enter the name of the numerical column: \")\n",
        "\n",
        "# Check if the column exists and is numerical\n",
        "if column_name in numerical_columns:\n",
        "    # Plot the KDE\n",
        "    plt.figure(figsize=(8, 6))\n",
        "    sns.kdeplot(df[column_name], shade=True)\n",
        "    plt.title(f\"Distribution of {column_name}\")\n",
        "    plt.xlabel(column_name)\n",
        "    plt.ylabel(\"Density\")\n",
        "    plt.show()\n",
        "else:\n",
        "    print(\"The column does not exist or is not numerical.\")\n",
        "\n"
      ],
      "metadata": {
        "colab": {
          "base_uri": "https://localhost:8080/"
        },
        "id": "ruAEDx4Q6rmo",
        "outputId": "69b70ccb-5873-44fe-d789-d4099df48fe1"
      },
      "execution_count": null,
      "outputs": [
        {
          "output_type": "stream",
          "name": "stdout",
          "text": [
            "Numerical columns:\n",
            "Index(['number', 'air_pressure_9am', 'air_temp_9am', 'avg_wind_direction_9am',\n",
            "       'avg_wind_speed_9am', 'max_wind_direction_9am', 'max_wind_speed_9am',\n",
            "       'rain_accumulation_9am', 'rain_duration_9am', 'relative_humidity_9am',\n",
            "       'relative_humidity_3pm'],\n",
            "      dtype='object')\n",
            "Enter the name of the numerical column: 5\n",
            "The column does not exist or is not numerical.\n"
          ]
        }
      ]
    },
    {
      "cell_type": "code",
      "source": [],
      "metadata": {
        "id": "0tQDPeEn7iAC"
      },
      "execution_count": null,
      "outputs": []
    }
  ]
}