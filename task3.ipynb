{
  "nbformat": 4,
  "nbformat_minor": 0,
  "metadata": {
    "colab": {
      "provenance": []
    },
    "kernelspec": {
      "name": "python3",
      "display_name": "Python 3"
    },
    "language_info": {
      "name": "python"
    }
  },
  "cells": [
    {
      "cell_type": "code",
      "execution_count": null,
      "metadata": {
        "colab": {
          "base_uri": "https://localhost:8080/"
        },
        "id": "RZYD4e46CXcr",
        "outputId": "6c3193ee-8e2d-445b-83b9-7eb8ed4a816a"
      },
      "outputs": [
        {
          "output_type": "stream",
          "name": "stdout",
          "text": [
            "10\n"
          ]
        }
      ],
      "source": [
        "def find_max(a, b):\n",
        "    if a > b:\n",
        "        return a\n",
        "    else:\n",
        "        return b\n",
        "\n",
        "print(find_max(5, 10))"
      ]
    },
    {
      "cell_type": "code",
      "source": [
        "def sum_numbers(numbers):\n",
        "    return sum(numbers)\n",
        "\n",
        "numbers = [8, 2, 3, 0, 7]\n",
        "print(sum_numbers(numbers))"
      ],
      "metadata": {
        "colab": {
          "base_uri": "https://localhost:8080/"
        },
        "id": "3zHnD6BPDkff",
        "outputId": "b595eff7-6421-4b8e-a31f-5530da7053db"
      },
      "execution_count": null,
      "outputs": [
        {
          "output_type": "stream",
          "name": "stdout",
          "text": [
            "20\n"
          ]
        }
      ]
    },
    {
      "cell_type": "code",
      "source": [
        "def unique_elements(numbers):\n",
        "    return list(set(numbers))\n",
        "\n",
        "numbers = [1, 2, 3, 3, 3, 3, 4, 5]\n",
        "print(unique_elements(numbers))"
      ],
      "metadata": {
        "colab": {
          "base_uri": "https://localhost:8080/"
        },
        "id": "XaszdFVODqps",
        "outputId": "14ed250f-5c2d-4857-dc7c-f4535a86328b"
      },
      "execution_count": null,
      "outputs": [
        {
          "output_type": "stream",
          "name": "stdout",
          "text": [
            "[1, 2, 3, 4, 5]\n"
          ]
        }
      ]
    },
    {
      "cell_type": "code",
      "source": [
        "import itertools\n",
        "\n",
        "def combinations(elements):\n",
        "    return list(itertools.combinations(elements, 2))\n",
        "\n",
        "elements = ['a', 'b', 'c']\n",
        "combinations_list = combinations(elements)\n",
        "print(combinations_list)\n",
        "print(len(combinations_list))"
      ],
      "metadata": {
        "colab": {
          "base_uri": "https://localhost:8080/"
        },
        "id": "jFn33GmqDyOR",
        "outputId": "efbbe7ab-f6d0-4c93-ac2c-2d5582860fb4"
      },
      "execution_count": null,
      "outputs": [
        {
          "output_type": "stream",
          "name": "stdout",
          "text": [
            "[('a', 'b'), ('a', 'c'), ('b', 'c')]\n",
            "3\n"
          ]
        }
      ]
    },
    {
      "cell_type": "code",
      "source": [
        "import itertools\n",
        "\n",
        "def permutations(elements):\n",
        "    return list(itertools.permutations(elements, 2))\n",
        "\n",
        "elements = ['a', 'b', 'c']\n",
        "permutations_list = permutations(elements)\n",
        "print(permutations_list)\n",
        "print(len(permutations_list))"
      ],
      "metadata": {
        "colab": {
          "base_uri": "https://localhost:8080/"
        },
        "id": "9W62zZaaD-jI",
        "outputId": "5a846128-cff4-4dc0-d6cb-476df65307d7"
      },
      "execution_count": null,
      "outputs": [
        {
          "output_type": "stream",
          "name": "stdout",
          "text": [
            "[('a', 'b'), ('a', 'c'), ('b', 'a'), ('b', 'c'), ('c', 'a'), ('c', 'b')]\n",
            "6\n"
          ]
        }
      ]
    },
    {
      "cell_type": "code",
      "source": [
        "def count_vowels_consonants(word):\n",
        "    vowels = 'aeiou'\n",
        "    vowel_count = 0\n",
        "    consonant_count = 0\n",
        "    for char in word:\n",
        "        if char.lower() in vowels:\n",
        "            vowel_count += 1\n",
        "        elif char.isalpha():\n",
        "            consonant_count += 1\n",
        "    return vowel_count, consonant_count\n",
        "\n",
        "word = 'statistics'\n",
        "vowel_count, consonant_count = count_vowels_consonants(word)\n",
        "print(f\"Count of vowel is = {vowel_count}\")\n",
        "print(f\"Count of consonant is = {consonant_count}\")"
      ],
      "metadata": {
        "colab": {
          "base_uri": "https://localhost:8080/"
        },
        "id": "wuIlwehvEI4T",
        "outputId": "6c3af9ec-024b-4b86-c83b-e679a376f6a9"
      },
      "execution_count": null,
      "outputs": [
        {
          "output_type": "stream",
          "name": "stdout",
          "text": [
            "Count of vowel is = 3\n",
            "Count of consonant is = 7\n"
          ]
        }
      ]
    },
    {
      "cell_type": "code",
      "source": [
        "def convert_to_uppercase(word):\n",
        "    return word.upper()\n",
        "\n",
        "word = 'statistics'\n",
        "print(convert_to_uppercase(word))"
      ],
      "metadata": {
        "colab": {
          "base_uri": "https://localhost:8080/"
        },
        "id": "4_fJaZXTEP3V",
        "outputId": "76aca7b6-5402-4bcd-b7c5-ef87b18ad207"
      },
      "execution_count": null,
      "outputs": [
        {
          "output_type": "stream",
          "name": "stdout",
          "text": [
            "STATISTICS\n"
          ]
        }
      ]
    },
    {
      "cell_type": "code",
      "source": [
        "def count_case(word):\n",
        "    lowercase_count = 0\n",
        "    uppercase_count = 0\n",
        "    for char in word:\n",
        "        if char.islower():\n",
        "            lowercase_count += 1\n",
        "        elif char.isupper():\n",
        "            uppercase_count += 1\n",
        "    return lowercase_count, uppercase_count\n",
        "\n",
        "word = 'STatiStiCS'\n",
        "lowercase_count, uppercase_count = count_case(word)\n",
        "print(f\"Lowercase count: {lowercase_count}\")\n",
        "print(f\"Uppercase count: {uppercase_count}\")"
      ],
      "metadata": {
        "colab": {
          "base_uri": "https://localhost:8080/"
        },
        "id": "6NYxl5qlEXsf",
        "outputId": "dc74dbc5-e61a-4d32-f60b-aa1e6f6e49fd"
      },
      "execution_count": null,
      "outputs": [
        {
          "output_type": "stream",
          "name": "stdout",
          "text": [
            "Lowercase count: 5\n",
            "Uppercase count: 5\n"
          ]
        }
      ]
    }
  ]
}