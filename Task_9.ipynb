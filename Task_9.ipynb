{
  "nbformat": 4,
  "nbformat_minor": 0,
  "metadata": {
    "colab": {
      "provenance": []
    },
    "kernelspec": {
      "name": "python3",
      "display_name": "Python 3"
    },
    "language_info": {
      "name": "python"
    }
  },
  "cells": [
    {
      "cell_type": "code",
      "source": [
        "# Load the Iris dataset\n",
        "from sklearn.datasets import load_iris\n",
        "from sklearn.model_selection import train_test_split\n",
        "from sklearn.naive_bayes import GaussianNB, BernoulliNB, MultinomialNB\n",
        "from sklearn.metrics import accuracy_score\n",
        "\n",
        "iris = load_iris()\n",
        "X = iris.data\n",
        "y = iris.target\n",
        "\n",
        "# Split the dataset into training and testing sets\n",
        "X_train, X_test, y_train, y_test = train_test_split(X, y, test_size=0.2, random_state=42)\n",
        "\n",
        "# Gaussian Naive Bayes\n",
        "gnb = GaussianNB()\n",
        "gnb.fit(X_train, y_train)\n",
        "y_pred_gnb = gnb.predict(X_test)\n",
        "print(\"Gaussian Naive Bayes Accuracy:\", accuracy_score(y_test, y_pred_gnb))\n",
        "\n",
        "# Bernoulli Naive Bayes\n",
        "bnb = BernoulliNB()\n",
        "# Since BernoulliNB requires binary features, we'll use a threshold to binarize the features\n",
        "X_train_bnb = (X_train > X_train.mean()).astype(int)\n",
        "X_test_bnb = (X_test > X_train.mean()).astype(int)\n",
        "bnb.fit(X_train_bnb, y_train)\n",
        "y_pred_bnb = bnb.predict(X_test_bnb)\n",
        "print(\"Bernoulli Naive Bayes Accuracy:\", accuracy_score(y_test, y_pred_bnb))\n",
        "\n",
        "# Multinomial Naive Bayes\n",
        "mnb = MultinomialNB()\n",
        "# Since MultinomialNB requires non-negative features, we'll shift the features to be non-negative\n",
        "X_train_mnb = X_train - X_train.min()\n",
        "X_test_mnb = X_test - X_train.min()\n",
        "mnb.fit(X_train_mnb, y_train)\n",
        "y_pred_mnb = mnb.predict(X_test_mnb)\n",
        "print(\"Multinomial Naive Bayes Accuracy:\",accuracy_score(y_test,y_pred_mnb))"
      ],
      "metadata": {
        "colab": {
          "base_uri": "https://localhost:8080/"
        },
        "id": "mWjaz9vBm-hq",
        "outputId": "21577bc4-cc00-426f-92fb-d5bfc33010b1"
      },
      "execution_count": 4,
      "outputs": [
        {
          "output_type": "stream",
          "name": "stdout",
          "text": [
            "Gaussian Naive Bayes Accuracy: 1.0\n",
            "Bernoulli Naive Bayes Accuracy: 0.6666666666666666\n",
            "Multinomial Naive Bayes Accuracy: 0.9333333333333333\n"
          ]
        }
      ]
    }
  ]
}